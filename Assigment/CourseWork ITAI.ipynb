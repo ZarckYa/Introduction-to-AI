{
 "cells": [
  {
   "cell_type": "code",
   "execution_count": 1,
   "id": "f060fb4b",
   "metadata": {},
   "outputs": [],
   "source": [
    "# Import all package will be used\n",
    "import pandas as pd\n",
    "import numpy as np\n",
    "import matplotlib.pyplot as plt\n",
    "import dataframe_image as dfi\n",
    "import time\n",
    "from sklearn.linear_model import Ridge\n",
    "from sklearn.linear_model import LinearRegression\n",
    "from sklearn.linear_model import BayesianRidge\n",
    "from sklearn.linear_model import Lasso\n",
    "from sklearn.linear_model import LassoLars\n",
    "from sklearn.kernel_ridge import KernelRidge\n",
    "from sklearn.svm import SVR\n",
    "from sklearn.model_selection import GridSearchCV\n",
    "from sklearn.model_selection import train_test_split, KFold\n",
    "from sklearn.metrics import mean_squared_error\n",
    "from sklearn.metrics import confusion_matrix\n",
    "from sklearn.dummy import DummyRegressor\n",
    "from sklearn.tree import DecisionTreeRegressor\n",
    "from sklearn.preprocessing import PolynomialFeatures\n",
    "from sklearn.neural_network import MLPRegressor\n",
    "from sklearn.linear_model import Perceptron"
   ]
  },
  {
   "cell_type": "markdown",
   "id": "7e94ee8a",
   "metadata": {},
   "source": [
    "## **Data Preparation**  \n",
    "1. Read data as Data frame.  \n",
    "2. Read all features and split data into Train, Valdation, Test dataset.\n"
   ]
  },
  {
   "cell_type": "code",
   "execution_count": 2,
   "id": "5b546b0e",
   "metadata": {},
   "outputs": [
    {
     "data": {
      "text/html": [
       "<div>\n",
       "<style scoped>\n",
       "    .dataframe tbody tr th:only-of-type {\n",
       "        vertical-align: middle;\n",
       "    }\n",
       "\n",
       "    .dataframe tbody tr th {\n",
       "        vertical-align: top;\n",
       "    }\n",
       "\n",
       "    .dataframe thead th {\n",
       "        text-align: right;\n",
       "    }\n",
       "</style>\n",
       "<table border=\"1\" class=\"dataframe\">\n",
       "  <thead>\n",
       "    <tr style=\"text-align: right;\">\n",
       "      <th></th>\n",
       "      <th>AT</th>\n",
       "      <th>V</th>\n",
       "      <th>AP</th>\n",
       "      <th>RH</th>\n",
       "      <th>PE</th>\n",
       "    </tr>\n",
       "  </thead>\n",
       "  <tbody>\n",
       "    <tr>\n",
       "      <th>0</th>\n",
       "      <td>14.96</td>\n",
       "      <td>41.76</td>\n",
       "      <td>1024.07</td>\n",
       "      <td>73.17</td>\n",
       "      <td>463.26</td>\n",
       "    </tr>\n",
       "    <tr>\n",
       "      <th>1</th>\n",
       "      <td>25.18</td>\n",
       "      <td>62.96</td>\n",
       "      <td>1020.04</td>\n",
       "      <td>59.08</td>\n",
       "      <td>444.37</td>\n",
       "    </tr>\n",
       "    <tr>\n",
       "      <th>2</th>\n",
       "      <td>5.11</td>\n",
       "      <td>39.40</td>\n",
       "      <td>1012.16</td>\n",
       "      <td>92.14</td>\n",
       "      <td>488.56</td>\n",
       "    </tr>\n",
       "    <tr>\n",
       "      <th>3</th>\n",
       "      <td>20.86</td>\n",
       "      <td>57.32</td>\n",
       "      <td>1010.24</td>\n",
       "      <td>76.64</td>\n",
       "      <td>446.48</td>\n",
       "    </tr>\n",
       "    <tr>\n",
       "      <th>4</th>\n",
       "      <td>10.82</td>\n",
       "      <td>37.50</td>\n",
       "      <td>1009.23</td>\n",
       "      <td>96.62</td>\n",
       "      <td>473.90</td>\n",
       "    </tr>\n",
       "    <tr>\n",
       "      <th>...</th>\n",
       "      <td>...</td>\n",
       "      <td>...</td>\n",
       "      <td>...</td>\n",
       "      <td>...</td>\n",
       "      <td>...</td>\n",
       "    </tr>\n",
       "    <tr>\n",
       "      <th>9563</th>\n",
       "      <td>16.65</td>\n",
       "      <td>49.69</td>\n",
       "      <td>1014.01</td>\n",
       "      <td>91.00</td>\n",
       "      <td>460.03</td>\n",
       "    </tr>\n",
       "    <tr>\n",
       "      <th>9564</th>\n",
       "      <td>13.19</td>\n",
       "      <td>39.18</td>\n",
       "      <td>1023.67</td>\n",
       "      <td>66.78</td>\n",
       "      <td>469.62</td>\n",
       "    </tr>\n",
       "    <tr>\n",
       "      <th>9565</th>\n",
       "      <td>31.32</td>\n",
       "      <td>74.33</td>\n",
       "      <td>1012.92</td>\n",
       "      <td>36.48</td>\n",
       "      <td>429.57</td>\n",
       "    </tr>\n",
       "    <tr>\n",
       "      <th>9566</th>\n",
       "      <td>24.48</td>\n",
       "      <td>69.45</td>\n",
       "      <td>1013.86</td>\n",
       "      <td>62.39</td>\n",
       "      <td>435.74</td>\n",
       "    </tr>\n",
       "    <tr>\n",
       "      <th>9567</th>\n",
       "      <td>21.60</td>\n",
       "      <td>62.52</td>\n",
       "      <td>1017.23</td>\n",
       "      <td>67.87</td>\n",
       "      <td>453.28</td>\n",
       "    </tr>\n",
       "  </tbody>\n",
       "</table>\n",
       "<p>9568 rows × 5 columns</p>\n",
       "</div>"
      ],
      "text/plain": [
       "         AT      V       AP     RH      PE\n",
       "0     14.96  41.76  1024.07  73.17  463.26\n",
       "1     25.18  62.96  1020.04  59.08  444.37\n",
       "2      5.11  39.40  1012.16  92.14  488.56\n",
       "3     20.86  57.32  1010.24  76.64  446.48\n",
       "4     10.82  37.50  1009.23  96.62  473.90\n",
       "...     ...    ...      ...    ...     ...\n",
       "9563  16.65  49.69  1014.01  91.00  460.03\n",
       "9564  13.19  39.18  1023.67  66.78  469.62\n",
       "9565  31.32  74.33  1012.92  36.48  429.57\n",
       "9566  24.48  69.45  1013.86  62.39  435.74\n",
       "9567  21.60  62.52  1017.23  67.87  453.28\n",
       "\n",
       "[9568 rows x 5 columns]"
      ]
     },
     "metadata": {},
     "output_type": "display_data"
    }
   ],
   "source": [
    "# read 'csv' file as a data frame and show how the data looks like\n",
    "Elec_info = pd.read_csv(\"coursework_other.csv\")\n",
    "display(Elec_info)"
   ]
  },
  {
   "cell_type": "code",
   "execution_count": 4,
   "id": "522783a3",
   "metadata": {},
   "outputs": [],
   "source": [
    "# Seprate the last column as outcomes, which also the value we need to predict\n",
    "# Transform the data frame to a numpy for spliting\n",
    "X = Elec_info.iloc[:, :-1].to_numpy()\n",
    "Y = Elec_info.iloc[:, -1].to_numpy()\n",
    "\n",
    "# Split all data into Xtest, Xtrain, Ytrain, Ytestabs\n",
    "Xtrain, Xtest, Ytrain, Ytest = train_test_split(X, Y, test_size=0.2, random_state=1729)\n",
    "\n",
    "# Generate a cross-validation dataset\n",
    "cv = KFold(n_splits=5, random_state=1729, shuffle=True)"
   ]
  },
  {
   "cell_type": "markdown",
   "id": "a07d4f3e",
   "metadata": {},
   "source": [
    "## **Method & Functions**\n",
    "**All those method are return MSE in train data and validation data and the optimal model.**\n",
    "1. PolynomialFeatures\n",
    "2. Base Line Regression method\n",
    "3. Ridge Regression with cross-validation\n",
    "4. Decision Tree Regression method\n",
    "5. Support Vector Regression\n",
    "6. KernelRidgeRegression  \n"
   ]
  },
  {
   "cell_type": "code",
   "execution_count": 5,
   "id": "a385ce89",
   "metadata": {},
   "outputs": [],
   "source": [
    "# Define a function to transfer features into a Polynomial Features\n",
    "def PolynomialFeaturesProcess(degree, Xtrain, Xval):\n",
    "    PRM = PolynomialFeatures(degree = degree)\n",
    "    Xtra_PF_ft = PRM.fit_transform(Xtrain)\n",
    "    Xval_PF_ft = PRM.fit_transform(Xval)\n",
    "    return Xtra_PF_ft, Xval_PF_ft, PRM"
   ]
  },
  {
   "cell_type": "code",
   "execution_count": 6,
   "id": "3d34c3ee",
   "metadata": {},
   "outputs": [],
   "source": [
    "# Define a Base-line function, which will use to compare with algorithms I chosen\n",
    "# The parameter: cv(cross-validation), strategy (Use to decide the stratege for Dummy Regression)\n",
    "def BaseLine_Regression(cv, strategies, Xtrain, Ytrain):\n",
    "    \n",
    "    DRM_train_accuracy = []\n",
    "    DRM_val_accuracy = []\n",
    "    # Baseline Prediction model\n",
    "    for strategy in strategies:\n",
    "        DRM = DummyRegressor(strategy=strategy, quantile=0.25, constant=450)\n",
    "        MSE_train = []\n",
    "        MSE_val = []\n",
    "\n",
    "        # Go through all cross-cvalidation data set\n",
    "        for train_set, val_set in cv.split(Xtrain):\n",
    "            Xtra, Xval, Ytra, Yval = Xtrain[train_set], Xtrain[val_set], Ytrain[train_set], Ytrain[val_set]\n",
    "            # fit the model on the current split of data \n",
    "            DR_model=DRM.fit(Xtra, Ytra)\n",
    "            # make predictions \n",
    "            Y_pred_tra=DR_model.predict(Xtra)\n",
    "            #print(Y_pred_tra)\n",
    "            Y_pred_val=DR_model.predict(Xval)\n",
    "            # calculate training and validation accuracy and store \n",
    "            MSE_train.append(mean_squared_error(Ytra,Y_pred_tra))\n",
    "            MSE_val.append(mean_squared_error(Yval,Y_pred_val))\n",
    "\n",
    "        # Calculate the mean MSE for each whole CV\n",
    "        DRM_train_accuracy.append(np.mean(MSE_train))\n",
    "        DRM_val_accuracy.append(np.mean(MSE_val))\n",
    "    \n",
    "    Best_Hyperpara = strategies[np.argmin(DRM_val_accuracy)]\n",
    "    Best_MSE = min(DRM_val_accuracy)\n",
    "    \n",
    "    DRM = DummyRegressor(strategy=Best_Hyperpara, quantile=0.3, constant=450)\n",
    "    Best_DR_model=DRM.fit(Xtra, Ytra)      \n",
    "    \n",
    "    return DRM_train_accuracy, DRM_val_accuracy, Best_DR_model"
   ]
  },
  {
   "cell_type": "code",
   "execution_count": 7,
   "id": "6e3a2480",
   "metadata": {},
   "outputs": [],
   "source": [
    "# Define a function use the Ridge Regression to fit data and predict results\n",
    "# The paramters are: CV(cross-validation), HyperParameter(alpha in RR), \n",
    "#                    X train data, Y train data, polyfeatures choise(True will call PolyniomialFeaturesProcess funtion)\n",
    "#                    degree (When polyfeatures = True,it is a parameter of Polyniomial Features)\n",
    "def Ridge_Regression_cv(cv, alpha_Range, Xtrain, Ytrain, polyfeatues = False, degree = 4):\n",
    "    # Define some list to store MSE values\n",
    "    RMM_train_accuracy = []\n",
    "    RMM_val_accuracy = []\n",
    "    RRM_mean_train_acc = []\n",
    "    RRM_mean_val_acc = []\n",
    "    \n",
    "    # For loop to go through all hyperparameter\n",
    "    for alpha in alpha_Range:\n",
    "        # define a model\n",
    "        RRM = Ridge(alpha=alpha)\n",
    "        #LRM = LinearRegression()\n",
    "        # BRM = BayesianRidge()\n",
    "        \n",
    "        # Go through all cross-cvalidation data set\n",
    "        for train_set, val_set in cv.split(Xtrain):\n",
    "            Xtra, Xval, Ytra, Yval = Xtrain[train_set], Xtrain[val_set], Ytrain[train_set], Ytrain[val_set]\n",
    "            # Call polynomial feature function\n",
    "            if(polyfeatues == True):\n",
    "                Xtra, Xval, PF = PolynomialFeaturesProcess(degree = degree, Xtrain = Xtra, Xval = Xval)\n",
    "            # fit the model on the current split of data \n",
    "            RM_model=RRM.fit(Xtra, Ytra)\n",
    "            # make predictions \n",
    "            Y_pred_tra=RM_model.predict(Xtra)\n",
    "            Y_pred_val=RM_model.predict(Xval)\n",
    "            \n",
    "            # calculate training and validation accuracy and store \n",
    "            RMM_train_accuracy.append(mean_squared_error(Ytra,Y_pred_tra))\n",
    "            RMM_val_accuracy.append(mean_squared_error(Yval,Y_pred_val))\n",
    "    \n",
    "        # Calculate the mean training and validation accuracies across splits for each hyperparameter\n",
    "        RRM_mean_train_acc.append(np.mean(RMM_train_accuracy))\n",
    "        RRM_mean_val_acc.append(np.mean(RMM_val_accuracy))\n",
    "    \n",
    "    Best_Hyperpara = alpha_Range[np.argmin(RRM_mean_val_acc)]\n",
    "    Best_MSE = min(RRM_mean_val_acc)\n",
    "    \n",
    "    RRM = Ridge(alpha=Best_Hyperpara)\n",
    "    Best_RM_model=RRM.fit(Xtra, Ytra)\n",
    "    \n",
    "    return RRM_mean_train_acc, RRM_mean_val_acc, Best_RM_model"
   ]
  },
  {
   "cell_type": "code",
   "execution_count": 8,
   "id": "b0030d04",
   "metadata": {},
   "outputs": [],
   "source": [
    "# Define a function, which will be uesd to create a whole decision Tree Regression.\n",
    "# The paramters are: CV(cross-validation), HyperParameter(depth in DTR), \n",
    "#                    X train data, Y train data, polyfeatures choise(True will call PolyniomialFeaturesProcess funtion)\n",
    "#                    degree (When polyfeatures = True,it is a parameter of Polyniomial Features)\n",
    "def DecisionTreeRegression(cv, Range_depth, Xtrain, Ytrain, polyfeatues = False, degree = 4):\n",
    "    # Range of depth used in go through all depth to fine the best depth\n",
    "    DTRM_train_accuracy =[]\n",
    "    DTRM_val_accuracy = []\n",
    "\n",
    "    # USe loop to go though all depth\n",
    "    for depth in Range_depth:\n",
    "        MSE_train = []\n",
    "        MSE_val = []\n",
    "        DTRM = DecisionTreeRegressor(max_depth = depth)\n",
    "        \n",
    "        for train_set, val_set in cv.split(Xtrain):\n",
    "            Xtra, Xval, Ytra, Yval = Xtrain[train_set], Xtrain[val_set], Ytrain[train_set], Ytrain[val_set]\n",
    "            if(polyfeatues == True):\n",
    "                Xtra, Xval, PF = PolynomialFeaturesProcess(degree = degree, Xtrain = Xtra, Xval = Xval)\n",
    "            # fit the model on the current split of data \n",
    "            DTR_model=DTRM.fit(Xtra, Ytra)\n",
    "            # make predictions \n",
    "            Y_pred_tra=DTR_model.predict(Xtra)\n",
    "            Y_pred_val=DTR_model.predict(Xval)\n",
    "            \n",
    "            # calculate training and validation accuracy and store \n",
    "            MSE_train.append(mean_squared_error(Ytra,Y_pred_tra))\n",
    "            MSE_val.append(mean_squared_error(Yval,Y_pred_val))\n",
    "        \n",
    "        # Compute the mean of MSE for each cross-validation split \n",
    "        DTRM_train_accuracy.append(np.mean(MSE_train))\n",
    "        DTRM_val_accuracy.append(np.mean(MSE_val))\n",
    "     \n",
    "    Best_Hyperpara = Range_depth[np.argmin(DTRM_val_accuracy)]\n",
    "    Best_MSE = min(DTRM_val_accuracy)\n",
    "    \n",
    "    DTRM = DecisionTreeRegressor(max_depth = Best_Hyperpara)\n",
    "    Best_DTR_model=DTRM.fit(Xtra, Ytra)     \n",
    "        \n",
    "    return DTRM_train_accuracy, DTRM_val_accuracy, Best_DTR_model"
   ]
  },
  {
   "cell_type": "code",
   "execution_count": 9,
   "id": "4a706385",
   "metadata": {},
   "outputs": [],
   "source": [
    "# Define a function, which will be uesd to create a whole decision Tree Regression.\n",
    "# The paramters are: CV(cross-validation), HyperParameter(c and gamma in SVR), \n",
    "#                    X train data, Y train data, polyfeatures choise(True will call PolyniomialFeaturesProcess funtion)\n",
    "#                    degree (When polyfeatures = True,it is a parameter of Polyniomial Features)\n",
    "def SupportVectorRegression(cv, c_Range, gamma, Xtrain, Ytrain, polyfeatues = False, degree = 4):\n",
    "    SVRM_train_accuracy =[]\n",
    "    SVRM_val_accuracy = []\n",
    "\n",
    "    # USe loop to go though all depth\n",
    "    for c in c_Range:\n",
    "        MSE_train = []\n",
    "        MSE_val = []\n",
    "        SVRM = SVR(C=c, gamma=gamma)\n",
    "        \n",
    "        for train_set, val_set in cv.split(Xtrain):\n",
    "            Xtra, Xval, Ytra, Yval = Xtrain[train_set], Xtrain[val_set], Ytrain[train_set], Ytrain[val_set]\n",
    "            if(polyfeatues == True):\n",
    "                Xtra, Xval, PF = PolynomialFeaturesProcess(degree = degree, Xtrain = Xtra, Xval = Xval)\n",
    "            # fit the model on the current split of data \n",
    "            SVR_model=SVRM.fit(Xtra, Ytra)\n",
    "            # make predictions \n",
    "            Y_pred_tra=SVR_model.predict(Xtra)\n",
    "            #print(Y_pred_tra)\n",
    "            Y_pred_val=SVR_model.predict(Xval)\n",
    "            # calculate training and validation accuracy and store \n",
    "            MSE_train.append(mean_squared_error(Ytra,Y_pred_tra))\n",
    "            MSE_val.append(mean_squared_error(Yval,Y_pred_val))\n",
    "            \n",
    "        # Compute the mean of MSE for each cross-validation split\n",
    "        SVRM_train_accuracy.append(np.mean(MSE_train))\n",
    "        SVRM_val_accuracy.append(np.mean(MSE_val))\n",
    "        \n",
    "    Best_Hyperpara = c_Range[np.argmin(SVRM_val_accuracy)]\n",
    "    Best_MSE = min(SVRM_val_accuracy)\n",
    "    \n",
    "    SVRM = SVR(C=Best_Hyperpara, gamma=gamma)\n",
    "    Best_SVR_model=SVRM.fit(Xtra, Ytra)  \n",
    "    \n",
    "    return SVRM_train_accuracy, SVRM_val_accuracy, Best_SVR_model"
   ]
  },
  {
   "cell_type": "code",
   "execution_count": 10,
   "id": "738dc938",
   "metadata": {},
   "outputs": [],
   "source": [
    "# Define a function, which will be uesd to create a whole decision Tree Regression.\n",
    "# The paramters are: CV(cross-validation), HyperParameter(alpha and gamma in SVR), \n",
    "#                    X train data, Y train data, polyfeatures choise(True will call PolyniomialFeaturesProcess funtion)\n",
    "#                    degree (When polyfeatures = True,it is a parameter of Polyniomial Features)\n",
    "def KernelRidgeRegression(cv, alpha_Range, gamma, Xtrain, Ytrain, polyfeatues = False, degree = 4):\n",
    "    KRRM_train_accuracy =[]\n",
    "    KRRM_val_accuracy = []\n",
    "\n",
    "    # USe loop to go though all depth\n",
    "    for alpha in alpha_Range:\n",
    "        MSE_train = []\n",
    "        MSE_val = []\n",
    "        KRRM = KernelRidge(alpha = alpha, gamma=gamma, kernel='rbf')\n",
    "        \n",
    "        for train_set, val_set in cv.split(Xtrain):\n",
    "            Xtra, Xval, Ytra, Yval = Xtrain[train_set], Xtrain[val_set], Ytrain[train_set], Ytrain[val_set]\n",
    "            if(polyfeatues == True):\n",
    "                Xtra, Xval, PF = PolynomialFeaturesProcess(degree = degree, Xtrain = Xtra, Xval = Xval)\n",
    "            # fit the model on the current split of data \n",
    "            KRR_model=KRRM.fit(Xtra, Ytra)\n",
    "            # make predictions \n",
    "            Y_pred_tra=KRR_model.predict(Xtra)\n",
    "            #print(Y_pred_tra)\n",
    "            Y_pred_val=KRR_model.predict(Xval)\n",
    "            # calculate training and validation accuracy and store \n",
    "            MSE_train.append(mean_squared_error(Ytra,Y_pred_tra))\n",
    "            MSE_val.append(mean_squared_error(Yval,Y_pred_val))\n",
    "            \n",
    "        # Compute the mean of MSE for each cross-validation split\n",
    "        KRRM_train_accuracy.append(np.mean(MSE_train))\n",
    "        KRRM_val_accuracy.append(np.mean(MSE_val))\n",
    "        \n",
    "    Best_Hyperpara = alpha_Range[np.argmin(KRRM_val_accuracy)]\n",
    "    Best_MSE = min(KRRM_val_accuracy)\n",
    "    \n",
    "    KRRM = KernelRidge(alpha = Best_Hyperpara, gamma=gamma, kernel='rbf')\n",
    "    Best_KRR_model=KRRM.fit(Xtra, Ytra)          \n",
    "        \n",
    "    return KRRM_train_accuracy, KRRM_val_accuracy, Best_KRR_model"
   ]
  },
  {
   "cell_type": "code",
   "execution_count": 11,
   "id": "b22b0724",
   "metadata": {},
   "outputs": [],
   "source": [
    "def KernelRidgeSearchCV(alpha, gamma, cvfoldnum, Xtrain, Ytrain, polyfeatures = False, degree = 4):\n",
    "    KRRM = KernelRidge()\n",
    "    if(polyfeatures == True):\n",
    "        PRM = PolynomialFeatures(degree = degree)\n",
    "        Xtrain = PRM.fit_transform(Xtrain)\n",
    "    # defining parameter range \n",
    "    param_grid = {'alpha': alpha,  'gamma': gamma}\n",
    "    \n",
    "    # defining a grid and apply KRRM\n",
    "    grid = GridSearchCV(KRRM, param_grid, refit = True, verbose = 3, n_jobs=-1, cv = cvfoldnum) \n",
    "    # Train the grid\n",
    "    grid.fit(Xtrain, Ytrain)\n",
    "    \n",
    "    # print best parameter after tuning \n",
    "    print(\"The optimal parameter: \", grid.best_params_) \n",
    "    ptint(\"Result each CV: \", grid.cv_results_)\n",
    "    return grid.best_estimator"
   ]
  },
  {
   "cell_type": "markdown",
   "id": "7ea7995a",
   "metadata": {},
   "source": [
    "## **Model train & test**\n",
    "1. Method to plot the MSE as those hyperparameter changes.\n",
    "2. Method called to test model."
   ]
  },
  {
   "cell_type": "code",
   "execution_count": 12,
   "id": "824b1eb0",
   "metadata": {},
   "outputs": [],
   "source": [
    "# Plot the validation result by the function.\n",
    "def plot_result(x, mean_train_acc, mean_val_acc):\n",
    "    # Print the optimal MSE and optimal Hyperparameterabs\n",
    "    Optimal_Hyperpara = x[np.argmin(mean_val_acc)]\n",
    "    Optimal_MSE = min(mean_val_acc)\n",
    "    \n",
    "    print(\"Optimal Hyperpara: \", Optimal_Hyperpara)\n",
    "    print(\"Optimal MSE: \", Optimal_MSE)\n",
    "    \n",
    "    # Plot the mean training and validation accuracies. \n",
    "    plt.plot(x, mean_train_acc, label='Training MSE')\n",
    "    plt.plot(x, mean_val_acc, label='Validation MSE')\n",
    "    \n",
    "    # Plot the optlmal line when in the best validation line.\n",
    "    plt.axvline(x[np.argmin(mean_val_acc)], label='Optimal HyperPara', color = 'g')\n",
    "    \n",
    "    optimal_points = f\"({Optimal_Hyperpara:.3f},{Optimal_MSE:.3f})\"\n",
    "    plt.annotate(optimal_points, (Optimal_Hyperpara, Optimal_MSE), ha='center',\n",
    "                textcoords=\"offset points\", xytext=(0,10))\n",
    "    \n",
    "    plt.legend()\n",
    "    plt.xlabel('Hyperparameter')\n",
    "    plt.ylabel('MSE')"
   ]
  },
  {
   "cell_type": "code",
   "execution_count": 13,
   "id": "2ec55438",
   "metadata": {},
   "outputs": [],
   "source": [
    "# Plot the predict in the test data set.\n",
    "def test_predict(xtest, ytest, model, polyfeatures = False, degree = 4):\n",
    "    # This polyfeature just used to change the test dataset in order to fit the model, \n",
    "    # which use the polyfeature to preprocess the data\n",
    "    if polyfeatures == True:\n",
    "        PF = PolynomialFeatures(degree=degree)\n",
    "        # Same preprocess with the train model \n",
    "        Xtest_fit = PF.fit_transform(xtest)\n",
    "    else:\n",
    "        Xtest_fit = xtest\n",
    "        \n",
    "    # Predict in test data set\n",
    "    Y_pred_tset = model.predict(Xtest_fit)\n",
    "    # Calculate the MSE in test dataset\n",
    "    MSE_test = mean_squared_error(ytest, Y_pred_tset)\n",
    "    return MSE_test"
   ]
  },
  {
   "cell_type": "markdown",
   "id": "c30a4a99",
   "metadata": {},
   "source": [
    "### **Base Line Model training & test**\n",
    "1. Model train and time spend\n",
    "2. Model Test"
   ]
  },
  {
   "cell_type": "code",
   "execution_count": 25,
   "id": "f22c56ad",
   "metadata": {},
   "outputs": [
    {
     "name": "stdout",
     "output_type": "stream",
     "text": [
      "0.02041482925415039\n"
     ]
    }
   ],
   "source": [
    "Time_Start = time.time()\n",
    "# Create a base line to compare with other algorithms\n",
    "strategys = [\"mean\", \"median\", \"quantile\", \"constant\"]\n",
    "X_range = range(4)\n",
    "DRM_train_accuracy, DRM_val_accuracy, DR_model = BaseLine_Regression(cv = cv, strategies = strategys, \n",
    "                                                                     Xtrain = Xtrain, Ytrain = Ytrain)\n",
    "baseline_time_spend = time.time() - Time_Start\n",
    "print(baseline_time_spend)"
   ]
  },
  {
   "cell_type": "code",
   "execution_count": 26,
   "id": "6c4dbe07",
   "metadata": {},
   "outputs": [
    {
     "name": "stdout",
     "output_type": "stream",
     "text": [
      "The Baseline model train elapsed 0.02041482925415039 seconds\n"
     ]
    }
   ],
   "source": [
    "print(\"The Baseline model train elapsed {} seconds\".format(baseline_time_spend))"
   ]
  },
  {
   "cell_type": "code",
   "execution_count": 14,
   "id": "a0242d9e",
   "metadata": {},
   "outputs": [
    {
     "name": "stdout",
     "output_type": "stream",
     "text": [
      "Dummy Regression MSE of Trian set:  [290.17167278331885, 297.67603078186795, 504.1607848939578, 309.1944178273831]\n",
      "Dummy Regression MSE of Validation set:  [290.32117461516856, 298.02577744623744, 504.33572155689444, 309.19439047599286]\n"
     ]
    },
    {
     "data": {
      "image/png": "[encoded data removed]",
      "text/plain": [
       "<Figure size 432x288 with 1 Axes>"
      ]
     },
     "metadata": {
      "needs_background": "light"
     },
     "output_type": "display_data"
    },
    {
     "data": {
      "text/html": [
       "<div>\n",
       "<style scoped>\n",
       "    .dataframe tbody tr th:only-of-type {\n",
       "        vertical-align: middle;\n",
       "    }\n",
       "\n",
       "    .dataframe tbody tr th {\n",
       "        vertical-align: top;\n",
       "    }\n",
       "\n",
       "    .dataframe thead th {\n",
       "        text-align: right;\n",
       "    }\n",
       "</style>\n",
       "<table border=\"1\" class=\"dataframe\">\n",
       "  <thead>\n",
       "    <tr style=\"text-align: right;\">\n",
       "      <th></th>\n",
       "      <th>mean</th>\n",
       "      <th>median</th>\n",
       "      <th>quantile</th>\n",
       "      <th>constant</th>\n",
       "    </tr>\n",
       "  </thead>\n",
       "  <tbody>\n",
       "    <tr>\n",
       "      <th>Train dataset</th>\n",
       "      <td>290.171673</td>\n",
       "      <td>297.676031</td>\n",
       "      <td>504.160785</td>\n",
       "      <td>309.194418</td>\n",
       "    </tr>\n",
       "    <tr>\n",
       "      <th>Valid dataset</th>\n",
       "      <td>290.321175</td>\n",
       "      <td>298.025777</td>\n",
       "      <td>504.335722</td>\n",
       "      <td>309.194390</td>\n",
       "    </tr>\n",
       "  </tbody>\n",
       "</table>\n",
       "</div>"
      ],
      "text/plain": [
       "                     mean      median    quantile    constant\n",
       "Train dataset  290.171673  297.676031  504.160785  309.194418\n",
       "Valid dataset  290.321175  298.025777  504.335722  309.194390"
      ]
     },
     "metadata": {},
     "output_type": "display_data"
    }
   ],
   "source": [
    "# Plot result of Dummy Regression\n",
    "print(\"Dummy Regression MSE of Trian set: \", DRM_train_accuracy)\n",
    "print(\"Dummy Regression MSE of Validation set: \", DRM_val_accuracy)\n",
    "\n",
    "plt.xticks(X_range, strategys)\n",
    "plt.plot(X_range, DRM_train_accuracy)\n",
    "plt.plot(X_range, DRM_val_accuracy)\n",
    "plt.xlabel(\"Strategy\")\n",
    "plt.ylabel(\"Valid MSE\")\n",
    "\n",
    "plt.savefig('baseline.png', facecolor='white')\n",
    "plt.show()\n",
    "plt.close()\n",
    "# plt.axhline(DRM_train_accuracy, label = strategys[0])\n",
    "# plt.axhline(DRM_val_accuracy, label = strategys[0])\n",
    "\n",
    "# Show the MSE as a dataframe\n",
    "table = [DRM_train_accuracy, np.array(DRM_val_accuracy)]\n",
    "train_val_table = pd.DataFrame(table)\n",
    "train_val_table.columns = strategys\n",
    "train_val_table.index = [\"Train dataset\", \"Valid dataset\"] \n",
    "display(train_val_table)\n",
    "train_val_table.to_latex(\"baseline_train_val_table.tex\")"
   ]
  },
  {
   "cell_type": "code",
   "execution_count": 48,
   "id": "7289d751",
   "metadata": {},
   "outputs": [
    {
     "name": "stdout",
     "output_type": "stream",
     "text": [
      "MSE in TEST dataset:  295.5139857757798\n"
     ]
    }
   ],
   "source": [
    "MSE_dummy_Valid = min(DRM_val_accuracy)\n",
    "# Predict by baseline model\n",
    "MSE_dummy_test = test_predict(xtest = Xtest, ytest = Ytest, model =DR_model, polyfeatures = False, degree = 4)\n",
    "\n",
    "print(\"MSE in TEST dataset: \", MSE_dummy_test)"
   ]
  },
  {
   "cell_type": "markdown",
   "id": "ddb62ad2",
   "metadata": {},
   "source": [
    "### **Ridge Regression Model training & test**\n",
    "1. Model train and time spend\n",
    "2. Model Test"
   ]
  },
  {
   "cell_type": "code",
   "execution_count": 16,
   "id": "5a79fbb5",
   "metadata": {
    "scrolled": true
   },
   "outputs": [
    {
     "name": "stderr",
     "output_type": "stream",
     "text": [
      "D:\\Anaconda Python\\lib\\site-packages\\sklearn\\linear_model\\_ridge.py:216: LinAlgWarning: Ill-conditioned matrix (rcond=1.57385e-24): result may not be accurate.\n",
      "  return linalg.solve(A, Xy, assume_a=\"pos\", overwrite_a=True).T\n",
      "D:\\Anaconda Python\\lib\\site-packages\\sklearn\\linear_model\\_ridge.py:216: LinAlgWarning: Ill-conditioned matrix (rcond=1.56702e-24): result may not be accurate.\n",
      "  return linalg.solve(A, Xy, assume_a=\"pos\", overwrite_a=True).T\n",
      "D:\\Anaconda Python\\lib\\site-packages\\sklearn\\linear_model\\_ridge.py:216: LinAlgWarning: Ill-conditioned matrix (rcond=1.55399e-24): result may not be accurate.\n",
      "  return linalg.solve(A, Xy, assume_a=\"pos\", overwrite_a=True).T\n",
      "D:\\Anaconda Python\\lib\\site-packages\\sklearn\\linear_model\\_ridge.py:216: LinAlgWarning: Ill-conditioned matrix (rcond=1.55879e-24): result may not be accurate.\n",
      "  return linalg.solve(A, Xy, assume_a=\"pos\", overwrite_a=True).T\n",
      "D:\\Anaconda Python\\lib\\site-packages\\sklearn\\linear_model\\_ridge.py:216: LinAlgWarning: Ill-conditioned matrix (rcond=1.55198e-24): result may not be accurate.\n",
      "  return linalg.solve(A, Xy, assume_a=\"pos\", overwrite_a=True).T\n",
      "D:\\Anaconda Python\\lib\\site-packages\\sklearn\\linear_model\\_ridge.py:216: LinAlgWarning: Ill-conditioned matrix (rcond=3.11431e-24): result may not be accurate.\n",
      "  return linalg.solve(A, Xy, assume_a=\"pos\", overwrite_a=True).T\n",
      "D:\\Anaconda Python\\lib\\site-packages\\sklearn\\linear_model\\_ridge.py:216: LinAlgWarning: Ill-conditioned matrix (rcond=3.09899e-24): result may not be accurate.\n",
      "  return linalg.solve(A, Xy, assume_a=\"pos\", overwrite_a=True).T\n",
      "D:\\Anaconda Python\\lib\\site-packages\\sklearn\\linear_model\\_ridge.py:216: LinAlgWarning: Ill-conditioned matrix (rcond=3.07548e-24): result may not be accurate.\n",
      "  return linalg.solve(A, Xy, assume_a=\"pos\", overwrite_a=True).T\n",
      "D:\\Anaconda Python\\lib\\site-packages\\sklearn\\linear_model\\_ridge.py:216: LinAlgWarning: Ill-conditioned matrix (rcond=3.08491e-24): result may not be accurate.\n",
      "  return linalg.solve(A, Xy, assume_a=\"pos\", overwrite_a=True).T\n",
      "D:\\Anaconda Python\\lib\\site-packages\\sklearn\\linear_model\\_ridge.py:216: LinAlgWarning: Ill-conditioned matrix (rcond=3.06955e-24): result may not be accurate.\n",
      "  return linalg.solve(A, Xy, assume_a=\"pos\", overwrite_a=True).T\n",
      "D:\\Anaconda Python\\lib\\site-packages\\sklearn\\linear_model\\_ridge.py:216: LinAlgWarning: Ill-conditioned matrix (rcond=4.65435e-24): result may not be accurate.\n",
      "  return linalg.solve(A, Xy, assume_a=\"pos\", overwrite_a=True).T\n",
      "D:\\Anaconda Python\\lib\\site-packages\\sklearn\\linear_model\\_ridge.py:216: LinAlgWarning: Ill-conditioned matrix (rcond=4.63113e-24): result may not be accurate.\n",
      "  return linalg.solve(A, Xy, assume_a=\"pos\", overwrite_a=True).T\n",
      "D:\\Anaconda Python\\lib\\site-packages\\sklearn\\linear_model\\_ridge.py:216: LinAlgWarning: Ill-conditioned matrix (rcond=4.59506e-24): result may not be accurate.\n",
      "  return linalg.solve(A, Xy, assume_a=\"pos\", overwrite_a=True).T\n",
      "D:\\Anaconda Python\\lib\\site-packages\\sklearn\\linear_model\\_ridge.py:216: LinAlgWarning: Ill-conditioned matrix (rcond=4.60922e-24): result may not be accurate.\n",
      "  return linalg.solve(A, Xy, assume_a=\"pos\", overwrite_a=True).T\n",
      "D:\\Anaconda Python\\lib\\site-packages\\sklearn\\linear_model\\_ridge.py:216: LinAlgWarning: Ill-conditioned matrix (rcond=4.58671e-24): result may not be accurate.\n",
      "  return linalg.solve(A, Xy, assume_a=\"pos\", overwrite_a=True).T\n",
      "D:\\Anaconda Python\\lib\\site-packages\\sklearn\\linear_model\\_ridge.py:216: LinAlgWarning: Ill-conditioned matrix (rcond=6.19501e-24): result may not be accurate.\n",
      "  return linalg.solve(A, Xy, assume_a=\"pos\", overwrite_a=True).T\n",
      "D:\\Anaconda Python\\lib\\site-packages\\sklearn\\linear_model\\_ridge.py:216: LinAlgWarning: Ill-conditioned matrix (rcond=6.43593e-24): result may not be accurate.\n",
      "  return linalg.solve(A, Xy, assume_a=\"pos\", overwrite_a=True).T\n",
      "D:\\Anaconda Python\\lib\\site-packages\\sklearn\\linear_model\\_ridge.py:216: LinAlgWarning: Ill-conditioned matrix (rcond=6.11569e-24): result may not be accurate.\n",
      "  return linalg.solve(A, Xy, assume_a=\"pos\", overwrite_a=True).T\n",
      "D:\\Anaconda Python\\lib\\site-packages\\sklearn\\linear_model\\_ridge.py:216: LinAlgWarning: Ill-conditioned matrix (rcond=6.13381e-24): result may not be accurate.\n",
      "  return linalg.solve(A, Xy, assume_a=\"pos\", overwrite_a=True).T\n",
      "D:\\Anaconda Python\\lib\\site-packages\\sklearn\\linear_model\\_ridge.py:216: LinAlgWarning: Ill-conditioned matrix (rcond=6.10551e-24): result may not be accurate.\n",
      "  return linalg.solve(A, Xy, assume_a=\"pos\", overwrite_a=True).T\n",
      "D:\\Anaconda Python\\lib\\site-packages\\sklearn\\linear_model\\_ridge.py:216: LinAlgWarning: Ill-conditioned matrix (rcond=8.06714e-24): result may not be accurate.\n",
      "  return linalg.solve(A, Xy, assume_a=\"pos\", overwrite_a=True).T\n",
      "D:\\Anaconda Python\\lib\\site-packages\\sklearn\\linear_model\\_ridge.py:216: LinAlgWarning: Ill-conditioned matrix (rcond=8.04594e-24): result may not be accurate.\n",
      "  return linalg.solve(A, Xy, assume_a=\"pos\", overwrite_a=True).T\n",
      "D:\\Anaconda Python\\lib\\site-packages\\sklearn\\linear_model\\_ridge.py:216: LinAlgWarning: Ill-conditioned matrix (rcond=7.98613e-24): result may not be accurate.\n",
      "  return linalg.solve(A, Xy, assume_a=\"pos\", overwrite_a=True).T\n",
      "D:\\Anaconda Python\\lib\\site-packages\\sklearn\\linear_model\\_ridge.py:216: LinAlgWarning: Ill-conditioned matrix (rcond=7.9982e-24): result may not be accurate.\n",
      "  return linalg.solve(A, Xy, assume_a=\"pos\", overwrite_a=True).T\n",
      "D:\\Anaconda Python\\lib\\site-packages\\sklearn\\linear_model\\_ridge.py:216: LinAlgWarning: Ill-conditioned matrix (rcond=7.94884e-24): result may not be accurate.\n",
      "  return linalg.solve(A, Xy, assume_a=\"pos\", overwrite_a=True).T\n",
      "D:\\Anaconda Python\\lib\\site-packages\\sklearn\\linear_model\\_ridge.py:216: LinAlgWarning: Ill-conditioned matrix (rcond=9.68197e-24): result may not be accurate.\n",
      "  return linalg.solve(A, Xy, assume_a=\"pos\", overwrite_a=True).T\n",
      "D:\\Anaconda Python\\lib\\site-packages\\sklearn\\linear_model\\_ridge.py:216: LinAlgWarning: Ill-conditioned matrix (rcond=9.65709e-24): result may not be accurate.\n",
      "  return linalg.solve(A, Xy, assume_a=\"pos\", overwrite_a=True).T\n",
      "D:\\Anaconda Python\\lib\\site-packages\\sklearn\\linear_model\\_ridge.py:216: LinAlgWarning: Ill-conditioned matrix (rcond=9.58693e-24): result may not be accurate.\n",
      "  return linalg.solve(A, Xy, assume_a=\"pos\", overwrite_a=True).T\n",
      "D:\\Anaconda Python\\lib\\site-packages\\sklearn\\linear_model\\_ridge.py:216: LinAlgWarning: Ill-conditioned matrix (rcond=9.60055e-24): result may not be accurate.\n",
      "  return linalg.solve(A, Xy, assume_a=\"pos\", overwrite_a=True).T\n",
      "D:\\Anaconda Python\\lib\\site-packages\\sklearn\\linear_model\\_ridge.py:216: LinAlgWarning: Ill-conditioned matrix (rcond=9.5396e-24): result may not be accurate.\n",
      "  return linalg.solve(A, Xy, assume_a=\"pos\", overwrite_a=True).T\n",
      "D:\\Anaconda Python\\lib\\site-packages\\sklearn\\linear_model\\_ridge.py:216: LinAlgWarning: Ill-conditioned matrix (rcond=1.12977e-23): result may not be accurate.\n",
      "  return linalg.solve(A, Xy, assume_a=\"pos\", overwrite_a=True).T\n",
      "D:\\Anaconda Python\\lib\\site-packages\\sklearn\\linear_model\\_ridge.py:216: LinAlgWarning: Ill-conditioned matrix (rcond=1.12696e-23): result may not be accurate.\n",
      "  return linalg.solve(A, Xy, assume_a=\"pos\", overwrite_a=True).T\n",
      "D:\\Anaconda Python\\lib\\site-packages\\sklearn\\linear_model\\_ridge.py:216: LinAlgWarning: Ill-conditioned matrix (rcond=1.11893e-23): result may not be accurate.\n",
      "  return linalg.solve(A, Xy, assume_a=\"pos\", overwrite_a=True).T\n",
      "D:\\Anaconda Python\\lib\\site-packages\\sklearn\\linear_model\\_ridge.py:216: LinAlgWarning: Ill-conditioned matrix (rcond=1.12035e-23): result may not be accurate.\n",
      "  return linalg.solve(A, Xy, assume_a=\"pos\", overwrite_a=True).T\n",
      "D:\\Anaconda Python\\lib\\site-packages\\sklearn\\linear_model\\_ridge.py:216: LinAlgWarning: Ill-conditioned matrix (rcond=1.1132e-23): result may not be accurate.\n",
      "  return linalg.solve(A, Xy, assume_a=\"pos\", overwrite_a=True).T\n",
      "D:\\Anaconda Python\\lib\\site-packages\\sklearn\\linear_model\\_ridge.py:216: LinAlgWarning: Ill-conditioned matrix (rcond=1.29152e-23): result may not be accurate.\n",
      "  return linalg.solve(A, Xy, assume_a=\"pos\", overwrite_a=True).T\n",
      "D:\\Anaconda Python\\lib\\site-packages\\sklearn\\linear_model\\_ridge.py:216: LinAlgWarning: Ill-conditioned matrix (rcond=1.2884e-23): result may not be accurate.\n",
      "  return linalg.solve(A, Xy, assume_a=\"pos\", overwrite_a=True).T\n",
      "D:\\Anaconda Python\\lib\\site-packages\\sklearn\\linear_model\\_ridge.py:216: LinAlgWarning: Ill-conditioned matrix (rcond=1.27917e-23): result may not be accurate.\n",
      "  return linalg.solve(A, Xy, assume_a=\"pos\", overwrite_a=True).T\n",
      "D:\\Anaconda Python\\lib\\site-packages\\sklearn\\linear_model\\_ridge.py:216: LinAlgWarning: Ill-conditioned matrix (rcond=1.28083e-23): result may not be accurate.\n",
      "  return linalg.solve(A, Xy, assume_a=\"pos\", overwrite_a=True).T\n",
      "D:\\Anaconda Python\\lib\\site-packages\\sklearn\\linear_model\\_ridge.py:216: LinAlgWarning: Ill-conditioned matrix (rcond=1.27257e-23): result may not be accurate.\n",
      "  return linalg.solve(A, Xy, assume_a=\"pos\", overwrite_a=True).T\n",
      "D:\\Anaconda Python\\lib\\site-packages\\sklearn\\linear_model\\_ridge.py:216: LinAlgWarning: Ill-conditioned matrix (rcond=1.45342e-23): result may not be accurate.\n",
      "  return linalg.solve(A, Xy, assume_a=\"pos\", overwrite_a=True).T\n",
      "D:\\Anaconda Python\\lib\\site-packages\\sklearn\\linear_model\\_ridge.py:216: LinAlgWarning: Ill-conditioned matrix (rcond=1.44996e-23): result may not be accurate.\n",
      "  return linalg.solve(A, Xy, assume_a=\"pos\", overwrite_a=True).T\n",
      "D:\\Anaconda Python\\lib\\site-packages\\sklearn\\linear_model\\_ridge.py:216: LinAlgWarning: Ill-conditioned matrix (rcond=1.43935e-23): result may not be accurate.\n",
      "  return linalg.solve(A, Xy, assume_a=\"pos\", overwrite_a=True).T\n",
      "D:\\Anaconda Python\\lib\\site-packages\\sklearn\\linear_model\\_ridge.py:216: LinAlgWarning: Ill-conditioned matrix (rcond=1.44151e-23): result may not be accurate.\n",
      "  return linalg.solve(A, Xy, assume_a=\"pos\", overwrite_a=True).T\n",
      "D:\\Anaconda Python\\lib\\site-packages\\sklearn\\linear_model\\_ridge.py:216: LinAlgWarning: Ill-conditioned matrix (rcond=1.43206e-23): result may not be accurate.\n",
      "  return linalg.solve(A, Xy, assume_a=\"pos\", overwrite_a=True).T\n",
      "D:\\Anaconda Python\\lib\\site-packages\\sklearn\\linear_model\\_ridge.py:216: LinAlgWarning: Ill-conditioned matrix (rcond=1.61518e-23): result may not be accurate.\n",
      "  return linalg.solve(A, Xy, assume_a=\"pos\", overwrite_a=True).T\n",
      "D:\\Anaconda Python\\lib\\site-packages\\sklearn\\linear_model\\_ridge.py:216: LinAlgWarning: Ill-conditioned matrix (rcond=1.61166e-23): result may not be accurate.\n",
      "  return linalg.solve(A, Xy, assume_a=\"pos\", overwrite_a=True).T\n",
      "D:\\Anaconda Python\\lib\\site-packages\\sklearn\\linear_model\\_ridge.py:216: LinAlgWarning: Ill-conditioned matrix (rcond=1.5997e-23): result may not be accurate.\n",
      "  return linalg.solve(A, Xy, assume_a=\"pos\", overwrite_a=True).T\n",
      "D:\\Anaconda Python\\lib\\site-packages\\sklearn\\linear_model\\_ridge.py:216: LinAlgWarning: Ill-conditioned matrix (rcond=1.60237e-23): result may not be accurate.\n",
      "  return linalg.solve(A, Xy, assume_a=\"pos\", overwrite_a=True).T\n",
      "D:\\Anaconda Python\\lib\\site-packages\\sklearn\\linear_model\\_ridge.py:216: LinAlgWarning: Ill-conditioned matrix (rcond=1.59172e-23): result may not be accurate.\n",
      "  return linalg.solve(A, Xy, assume_a=\"pos\", overwrite_a=True).T\n",
      "D:\\Anaconda Python\\lib\\site-packages\\sklearn\\linear_model\\_ridge.py:216: LinAlgWarning: Ill-conditioned matrix (rcond=1.77694e-23): result may not be accurate.\n",
      "  return linalg.solve(A, Xy, assume_a=\"pos\", overwrite_a=True).T\n"
     ]
    },
    {
     "name": "stderr",
     "output_type": "stream",
     "text": [
      "D:\\Anaconda Python\\lib\\site-packages\\sklearn\\linear_model\\_ridge.py:216: LinAlgWarning: Ill-conditioned matrix (rcond=1.77344e-23): result may not be accurate.\n",
      "  return linalg.solve(A, Xy, assume_a=\"pos\", overwrite_a=True).T\n",
      "D:\\Anaconda Python\\lib\\site-packages\\sklearn\\linear_model\\_ridge.py:216: LinAlgWarning: Ill-conditioned matrix (rcond=1.7602e-23): result may not be accurate.\n",
      "  return linalg.solve(A, Xy, assume_a=\"pos\", overwrite_a=True).T\n",
      "D:\\Anaconda Python\\lib\\site-packages\\sklearn\\linear_model\\_ridge.py:216: LinAlgWarning: Ill-conditioned matrix (rcond=1.76343e-23): result may not be accurate.\n",
      "  return linalg.solve(A, Xy, assume_a=\"pos\", overwrite_a=True).T\n",
      "D:\\Anaconda Python\\lib\\site-packages\\sklearn\\linear_model\\_ridge.py:216: LinAlgWarning: Ill-conditioned matrix (rcond=1.7515e-23): result may not be accurate.\n",
      "  return linalg.solve(A, Xy, assume_a=\"pos\", overwrite_a=True).T\n",
      "D:\\Anaconda Python\\lib\\site-packages\\sklearn\\linear_model\\_ridge.py:216: LinAlgWarning: Ill-conditioned matrix (rcond=1.93883e-23): result may not be accurate.\n",
      "  return linalg.solve(A, Xy, assume_a=\"pos\", overwrite_a=True).T\n",
      "D:\\Anaconda Python\\lib\\site-packages\\sklearn\\linear_model\\_ridge.py:216: LinAlgWarning: Ill-conditioned matrix (rcond=1.9352e-23): result may not be accurate.\n",
      "  return linalg.solve(A, Xy, assume_a=\"pos\", overwrite_a=True).T\n",
      "D:\\Anaconda Python\\lib\\site-packages\\sklearn\\linear_model\\_ridge.py:216: LinAlgWarning: Ill-conditioned matrix (rcond=1.92078e-23): result may not be accurate.\n",
      "  return linalg.solve(A, Xy, assume_a=\"pos\", overwrite_a=True).T\n",
      "D:\\Anaconda Python\\lib\\site-packages\\sklearn\\linear_model\\_ridge.py:216: LinAlgWarning: Ill-conditioned matrix (rcond=1.92431e-23): result may not be accurate.\n",
      "  return linalg.solve(A, Xy, assume_a=\"pos\", overwrite_a=True).T\n",
      "D:\\Anaconda Python\\lib\\site-packages\\sklearn\\linear_model\\_ridge.py:216: LinAlgWarning: Ill-conditioned matrix (rcond=1.91119e-23): result may not be accurate.\n",
      "  return linalg.solve(A, Xy, assume_a=\"pos\", overwrite_a=True).T\n",
      "D:\\Anaconda Python\\lib\\site-packages\\sklearn\\linear_model\\_ridge.py:216: LinAlgWarning: Ill-conditioned matrix (rcond=2.10086e-23): result may not be accurate.\n",
      "  return linalg.solve(A, Xy, assume_a=\"pos\", overwrite_a=True).T\n",
      "D:\\Anaconda Python\\lib\\site-packages\\sklearn\\linear_model\\_ridge.py:216: LinAlgWarning: Ill-conditioned matrix (rcond=2.33052e-23): result may not be accurate.\n",
      "  return linalg.solve(A, Xy, assume_a=\"pos\", overwrite_a=True).T\n",
      "D:\\Anaconda Python\\lib\\site-packages\\sklearn\\linear_model\\_ridge.py:216: LinAlgWarning: Ill-conditioned matrix (rcond=2.08143e-23): result may not be accurate.\n",
      "  return linalg.solve(A, Xy, assume_a=\"pos\", overwrite_a=True).T\n",
      "D:\\Anaconda Python\\lib\\site-packages\\sklearn\\linear_model\\_ridge.py:216: LinAlgWarning: Ill-conditioned matrix (rcond=2.08524e-23): result may not be accurate.\n",
      "  return linalg.solve(A, Xy, assume_a=\"pos\", overwrite_a=True).T\n",
      "D:\\Anaconda Python\\lib\\site-packages\\sklearn\\linear_model\\_ridge.py:216: LinAlgWarning: Ill-conditioned matrix (rcond=2.07099e-23): result may not be accurate.\n",
      "  return linalg.solve(A, Xy, assume_a=\"pos\", overwrite_a=True).T\n",
      "D:\\Anaconda Python\\lib\\site-packages\\sklearn\\linear_model\\_ridge.py:216: LinAlgWarning: Ill-conditioned matrix (rcond=2.26303e-23): result may not be accurate.\n",
      "  return linalg.solve(A, Xy, assume_a=\"pos\", overwrite_a=True).T\n",
      "D:\\Anaconda Python\\lib\\site-packages\\sklearn\\linear_model\\_ridge.py:216: LinAlgWarning: Ill-conditioned matrix (rcond=2.50979e-23): result may not be accurate.\n",
      "  return linalg.solve(A, Xy, assume_a=\"pos\", overwrite_a=True).T\n",
      "D:\\Anaconda Python\\lib\\site-packages\\sklearn\\linear_model\\_ridge.py:216: LinAlgWarning: Ill-conditioned matrix (rcond=1.98601e-23): result may not be accurate.\n",
      "  return linalg.solve(A, Xy, assume_a=\"pos\", overwrite_a=True).T\n",
      "D:\\Anaconda Python\\lib\\site-packages\\sklearn\\linear_model\\_ridge.py:216: LinAlgWarning: Ill-conditioned matrix (rcond=2.24629e-23): result may not be accurate.\n",
      "  return linalg.solve(A, Xy, assume_a=\"pos\", overwrite_a=True).T\n",
      "D:\\Anaconda Python\\lib\\site-packages\\sklearn\\linear_model\\_ridge.py:216: LinAlgWarning: Ill-conditioned matrix (rcond=2.47976e-23): result may not be accurate.\n",
      "  return linalg.solve(A, Xy, assume_a=\"pos\", overwrite_a=True).T\n",
      "D:\\Anaconda Python\\lib\\site-packages\\sklearn\\linear_model\\_ridge.py:216: LinAlgWarning: Ill-conditioned matrix (rcond=2.69721e-23): result may not be accurate.\n",
      "  return linalg.solve(A, Xy, assume_a=\"pos\", overwrite_a=True).T\n",
      "D:\\Anaconda Python\\lib\\site-packages\\sklearn\\linear_model\\_ridge.py:216: LinAlgWarning: Ill-conditioned matrix (rcond=2.68906e-23): result may not be accurate.\n",
      "  return linalg.solve(A, Xy, assume_a=\"pos\", overwrite_a=True).T\n",
      "D:\\Anaconda Python\\lib\\site-packages\\sklearn\\linear_model\\_ridge.py:216: LinAlgWarning: Ill-conditioned matrix (rcond=2.66823e-23): result may not be accurate.\n",
      "  return linalg.solve(A, Xy, assume_a=\"pos\", overwrite_a=True).T\n",
      "D:\\Anaconda Python\\lib\\site-packages\\sklearn\\linear_model\\_ridge.py:216: LinAlgWarning: Ill-conditioned matrix (rcond=2.67197e-23): result may not be accurate.\n",
      "  return linalg.solve(A, Xy, assume_a=\"pos\", overwrite_a=True).T\n",
      "D:\\Anaconda Python\\lib\\site-packages\\sklearn\\linear_model\\_ridge.py:216: LinAlgWarning: Ill-conditioned matrix (rcond=2.65689e-23): result may not be accurate.\n",
      "  return linalg.solve(A, Xy, assume_a=\"pos\", overwrite_a=True).T\n",
      "D:\\Anaconda Python\\lib\\site-packages\\sklearn\\linear_model\\_ridge.py:216: LinAlgWarning: Ill-conditioned matrix (rcond=2.87703e-23): result may not be accurate.\n",
      "  return linalg.solve(A, Xy, assume_a=\"pos\", overwrite_a=True).T\n",
      "D:\\Anaconda Python\\lib\\site-packages\\sklearn\\linear_model\\_ridge.py:216: LinAlgWarning: Ill-conditioned matrix (rcond=2.86833e-23): result may not be accurate.\n",
      "  return linalg.solve(A, Xy, assume_a=\"pos\", overwrite_a=True).T\n",
      "D:\\Anaconda Python\\lib\\site-packages\\sklearn\\linear_model\\_ridge.py:216: LinAlgWarning: Ill-conditioned matrix (rcond=2.84611e-23): result may not be accurate.\n",
      "  return linalg.solve(A, Xy, assume_a=\"pos\", overwrite_a=True).T\n",
      "D:\\Anaconda Python\\lib\\site-packages\\sklearn\\linear_model\\_ridge.py:216: LinAlgWarning: Ill-conditioned matrix (rcond=2.8501e-23): result may not be accurate.\n",
      "  return linalg.solve(A, Xy, assume_a=\"pos\", overwrite_a=True).T\n",
      "D:\\Anaconda Python\\lib\\site-packages\\sklearn\\linear_model\\_ridge.py:216: LinAlgWarning: Ill-conditioned matrix (rcond=2.83402e-23): result may not be accurate.\n",
      "  return linalg.solve(A, Xy, assume_a=\"pos\", overwrite_a=True).T\n",
      "D:\\Anaconda Python\\lib\\site-packages\\sklearn\\linear_model\\_ridge.py:216: LinAlgWarning: Ill-conditioned matrix (rcond=3.05684e-23): result may not be accurate.\n",
      "  return linalg.solve(A, Xy, assume_a=\"pos\", overwrite_a=True).T\n",
      "D:\\Anaconda Python\\lib\\site-packages\\sklearn\\linear_model\\_ridge.py:216: LinAlgWarning: Ill-conditioned matrix (rcond=3.0476e-23): result may not be accurate.\n",
      "  return linalg.solve(A, Xy, assume_a=\"pos\", overwrite_a=True).T\n",
      "D:\\Anaconda Python\\lib\\site-packages\\sklearn\\linear_model\\_ridge.py:216: LinAlgWarning: Ill-conditioned matrix (rcond=3.02399e-23): result may not be accurate.\n",
      "  return linalg.solve(A, Xy, assume_a=\"pos\", overwrite_a=True).T\n",
      "D:\\Anaconda Python\\lib\\site-packages\\sklearn\\linear_model\\_ridge.py:216: LinAlgWarning: Ill-conditioned matrix (rcond=3.02823e-23): result may not be accurate.\n",
      "  return linalg.solve(A, Xy, assume_a=\"pos\", overwrite_a=True).T\n",
      "D:\\Anaconda Python\\lib\\site-packages\\sklearn\\linear_model\\_ridge.py:216: LinAlgWarning: Ill-conditioned matrix (rcond=3.01114e-23): result may not be accurate.\n",
      "  return linalg.solve(A, Xy, assume_a=\"pos\", overwrite_a=True).T\n",
      "D:\\Anaconda Python\\lib\\site-packages\\sklearn\\linear_model\\_ridge.py:216: LinAlgWarning: Ill-conditioned matrix (rcond=3.23666e-23): result may not be accurate.\n",
      "  return linalg.solve(A, Xy, assume_a=\"pos\", overwrite_a=True).T\n",
      "D:\\Anaconda Python\\lib\\site-packages\\sklearn\\linear_model\\_ridge.py:216: LinAlgWarning: Ill-conditioned matrix (rcond=3.22687e-23): result may not be accurate.\n",
      "  return linalg.solve(A, Xy, assume_a=\"pos\", overwrite_a=True).T\n",
      "D:\\Anaconda Python\\lib\\site-packages\\sklearn\\linear_model\\_ridge.py:216: LinAlgWarning: Ill-conditioned matrix (rcond=3.20187e-23): result may not be accurate.\n",
      "  return linalg.solve(A, Xy, assume_a=\"pos\", overwrite_a=True).T\n",
      "D:\\Anaconda Python\\lib\\site-packages\\sklearn\\linear_model\\_ridge.py:216: LinAlgWarning: Ill-conditioned matrix (rcond=3.20637e-23): result may not be accurate.\n",
      "  return linalg.solve(A, Xy, assume_a=\"pos\", overwrite_a=True).T\n",
      "D:\\Anaconda Python\\lib\\site-packages\\sklearn\\linear_model\\_ridge.py:216: LinAlgWarning: Ill-conditioned matrix (rcond=3.18827e-23): result may not be accurate.\n",
      "  return linalg.solve(A, Xy, assume_a=\"pos\", overwrite_a=True).T\n",
      "D:\\Anaconda Python\\lib\\site-packages\\sklearn\\linear_model\\_ridge.py:216: LinAlgWarning: Ill-conditioned matrix (rcond=3.41647e-23): result may not be accurate.\n",
      "  return linalg.solve(A, Xy, assume_a=\"pos\", overwrite_a=True).T\n",
      "D:\\Anaconda Python\\lib\\site-packages\\sklearn\\linear_model\\_ridge.py:216: LinAlgWarning: Ill-conditioned matrix (rcond=3.40614e-23): result may not be accurate.\n",
      "  return linalg.solve(A, Xy, assume_a=\"pos\", overwrite_a=True).T\n",
      "D:\\Anaconda Python\\lib\\site-packages\\sklearn\\linear_model\\_ridge.py:216: LinAlgWarning: Ill-conditioned matrix (rcond=3.37975e-23): result may not be accurate.\n",
      "  return linalg.solve(A, Xy, assume_a=\"pos\", overwrite_a=True).T\n",
      "D:\\Anaconda Python\\lib\\site-packages\\sklearn\\linear_model\\_ridge.py:216: LinAlgWarning: Ill-conditioned matrix (rcond=3.3845e-23): result may not be accurate.\n",
      "  return linalg.solve(A, Xy, assume_a=\"pos\", overwrite_a=True).T\n",
      "D:\\Anaconda Python\\lib\\site-packages\\sklearn\\linear_model\\_ridge.py:216: LinAlgWarning: Ill-conditioned matrix (rcond=3.3654e-23): result may not be accurate.\n",
      "  return linalg.solve(A, Xy, assume_a=\"pos\", overwrite_a=True).T\n",
      "D:\\Anaconda Python\\lib\\site-packages\\sklearn\\linear_model\\_ridge.py:216: LinAlgWarning: Ill-conditioned matrix (rcond=3.59628e-23): result may not be accurate.\n",
      "  return linalg.solve(A, Xy, assume_a=\"pos\", overwrite_a=True).T\n",
      "D:\\Anaconda Python\\lib\\site-packages\\sklearn\\linear_model\\_ridge.py:216: LinAlgWarning: Ill-conditioned matrix (rcond=3.58542e-23): result may not be accurate.\n",
      "  return linalg.solve(A, Xy, assume_a=\"pos\", overwrite_a=True).T\n",
      "D:\\Anaconda Python\\lib\\site-packages\\sklearn\\linear_model\\_ridge.py:216: LinAlgWarning: Ill-conditioned matrix (rcond=3.55763e-23): result may not be accurate.\n",
      "  return linalg.solve(A, Xy, assume_a=\"pos\", overwrite_a=True).T\n",
      "D:\\Anaconda Python\\lib\\site-packages\\sklearn\\linear_model\\_ridge.py:216: LinAlgWarning: Ill-conditioned matrix (rcond=3.56263e-23): result may not be accurate.\n",
      "  return linalg.solve(A, Xy, assume_a=\"pos\", overwrite_a=True).T\n",
      "D:\\Anaconda Python\\lib\\site-packages\\sklearn\\linear_model\\_ridge.py:216: LinAlgWarning: Ill-conditioned matrix (rcond=3.54252e-23): result may not be accurate.\n",
      "  return linalg.solve(A, Xy, assume_a=\"pos\", overwrite_a=True).T\n",
      "D:\\Anaconda Python\\lib\\site-packages\\sklearn\\linear_model\\_ridge.py:216: LinAlgWarning: Ill-conditioned matrix (rcond=3.7761e-23): result may not be accurate.\n",
      "  return linalg.solve(A, Xy, assume_a=\"pos\", overwrite_a=True).T\n"
     ]
    },
    {
     "name": "stderr",
     "output_type": "stream",
     "text": [
      "D:\\Anaconda Python\\lib\\site-packages\\sklearn\\linear_model\\_ridge.py:216: LinAlgWarning: Ill-conditioned matrix (rcond=3.76469e-23): result may not be accurate.\n",
      "  return linalg.solve(A, Xy, assume_a=\"pos\", overwrite_a=True).T\n",
      "D:\\Anaconda Python\\lib\\site-packages\\sklearn\\linear_model\\_ridge.py:216: LinAlgWarning: Ill-conditioned matrix (rcond=3.73552e-23): result may not be accurate.\n",
      "  return linalg.solve(A, Xy, assume_a=\"pos\", overwrite_a=True).T\n",
      "D:\\Anaconda Python\\lib\\site-packages\\sklearn\\linear_model\\_ridge.py:216: LinAlgWarning: Ill-conditioned matrix (rcond=3.74076e-23): result may not be accurate.\n",
      "  return linalg.solve(A, Xy, assume_a=\"pos\", overwrite_a=True).T\n",
      "D:\\Anaconda Python\\lib\\site-packages\\sklearn\\linear_model\\_ridge.py:216: LinAlgWarning: Ill-conditioned matrix (rcond=3.71965e-23): result may not be accurate.\n",
      "  return linalg.solve(A, Xy, assume_a=\"pos\", overwrite_a=True).T\n",
      "D:\\Anaconda Python\\lib\\site-packages\\sklearn\\linear_model\\_ridge.py:216: LinAlgWarning: Ill-conditioned matrix (rcond=3.95591e-23): result may not be accurate.\n",
      "  return linalg.solve(A, Xy, assume_a=\"pos\", overwrite_a=True).T\n",
      "D:\\Anaconda Python\\lib\\site-packages\\sklearn\\linear_model\\_ridge.py:216: LinAlgWarning: Ill-conditioned matrix (rcond=3.94396e-23): result may not be accurate.\n",
      "  return linalg.solve(A, Xy, assume_a=\"pos\", overwrite_a=True).T\n",
      "D:\\Anaconda Python\\lib\\site-packages\\sklearn\\linear_model\\_ridge.py:216: LinAlgWarning: Ill-conditioned matrix (rcond=3.9134e-23): result may not be accurate.\n",
      "  return linalg.solve(A, Xy, assume_a=\"pos\", overwrite_a=True).T\n",
      "D:\\Anaconda Python\\lib\\site-packages\\sklearn\\linear_model\\_ridge.py:216: LinAlgWarning: Ill-conditioned matrix (rcond=3.91889e-23): result may not be accurate.\n",
      "  return linalg.solve(A, Xy, assume_a=\"pos\", overwrite_a=True).T\n",
      "D:\\Anaconda Python\\lib\\site-packages\\sklearn\\linear_model\\_ridge.py:216: LinAlgWarning: Ill-conditioned matrix (rcond=3.89677e-23): result may not be accurate.\n",
      "  return linalg.solve(A, Xy, assume_a=\"pos\", overwrite_a=True).T\n",
      "D:\\Anaconda Python\\lib\\site-packages\\sklearn\\linear_model\\_ridge.py:216: LinAlgWarning: Ill-conditioned matrix (rcond=4.13573e-23): result may not be accurate.\n",
      "  return linalg.solve(A, Xy, assume_a=\"pos\", overwrite_a=True).T\n",
      "D:\\Anaconda Python\\lib\\site-packages\\sklearn\\linear_model\\_ridge.py:216: LinAlgWarning: Ill-conditioned matrix (rcond=4.12323e-23): result may not be accurate.\n",
      "  return linalg.solve(A, Xy, assume_a=\"pos\", overwrite_a=True).T\n",
      "D:\\Anaconda Python\\lib\\site-packages\\sklearn\\linear_model\\_ridge.py:216: LinAlgWarning: Ill-conditioned matrix (rcond=4.09128e-23): result may not be accurate.\n",
      "  return linalg.solve(A, Xy, assume_a=\"pos\", overwrite_a=True).T\n",
      "D:\\Anaconda Python\\lib\\site-packages\\sklearn\\linear_model\\_ridge.py:216: LinAlgWarning: Ill-conditioned matrix (rcond=4.09702e-23): result may not be accurate.\n",
      "  return linalg.solve(A, Xy, assume_a=\"pos\", overwrite_a=True).T\n",
      "D:\\Anaconda Python\\lib\\site-packages\\sklearn\\linear_model\\_ridge.py:216: LinAlgWarning: Ill-conditioned matrix (rcond=4.0739e-23): result may not be accurate.\n",
      "  return linalg.solve(A, Xy, assume_a=\"pos\", overwrite_a=True).T\n",
      "D:\\Anaconda Python\\lib\\site-packages\\sklearn\\linear_model\\_ridge.py:216: LinAlgWarning: Ill-conditioned matrix (rcond=4.31554e-23): result may not be accurate.\n",
      "  return linalg.solve(A, Xy, assume_a=\"pos\", overwrite_a=True).T\n",
      "D:\\Anaconda Python\\lib\\site-packages\\sklearn\\linear_model\\_ridge.py:216: LinAlgWarning: Ill-conditioned matrix (rcond=4.3025e-23): result may not be accurate.\n",
      "  return linalg.solve(A, Xy, assume_a=\"pos\", overwrite_a=True).T\n",
      "D:\\Anaconda Python\\lib\\site-packages\\sklearn\\linear_model\\_ridge.py:216: LinAlgWarning: Ill-conditioned matrix (rcond=4.26916e-23): result may not be accurate.\n",
      "  return linalg.solve(A, Xy, assume_a=\"pos\", overwrite_a=True).T\n",
      "D:\\Anaconda Python\\lib\\site-packages\\sklearn\\linear_model\\_ridge.py:216: LinAlgWarning: Ill-conditioned matrix (rcond=4.27515e-23): result may not be accurate.\n",
      "  return linalg.solve(A, Xy, assume_a=\"pos\", overwrite_a=True).T\n",
      "D:\\Anaconda Python\\lib\\site-packages\\sklearn\\linear_model\\_ridge.py:216: LinAlgWarning: Ill-conditioned matrix (rcond=4.25103e-23): result may not be accurate.\n",
      "  return linalg.solve(A, Xy, assume_a=\"pos\", overwrite_a=True).T\n",
      "D:\\Anaconda Python\\lib\\site-packages\\sklearn\\linear_model\\_ridge.py:216: LinAlgWarning: Ill-conditioned matrix (rcond=4.49536e-23): result may not be accurate.\n",
      "  return linalg.solve(A, Xy, assume_a=\"pos\", overwrite_a=True).T\n",
      "D:\\Anaconda Python\\lib\\site-packages\\sklearn\\linear_model\\_ridge.py:216: LinAlgWarning: Ill-conditioned matrix (rcond=4.48177e-23): result may not be accurate.\n",
      "  return linalg.solve(A, Xy, assume_a=\"pos\", overwrite_a=True).T\n",
      "D:\\Anaconda Python\\lib\\site-packages\\sklearn\\linear_model\\_ridge.py:216: LinAlgWarning: Ill-conditioned matrix (rcond=4.44704e-23): result may not be accurate.\n",
      "  return linalg.solve(A, Xy, assume_a=\"pos\", overwrite_a=True).T\n",
      "D:\\Anaconda Python\\lib\\site-packages\\sklearn\\linear_model\\_ridge.py:216: LinAlgWarning: Ill-conditioned matrix (rcond=4.45329e-23): result may not be accurate.\n",
      "  return linalg.solve(A, Xy, assume_a=\"pos\", overwrite_a=True).T\n",
      "D:\\Anaconda Python\\lib\\site-packages\\sklearn\\linear_model\\_ridge.py:216: LinAlgWarning: Ill-conditioned matrix (rcond=4.42815e-23): result may not be accurate.\n",
      "  return linalg.solve(A, Xy, assume_a=\"pos\", overwrite_a=True).T\n",
      "D:\\Anaconda Python\\lib\\site-packages\\sklearn\\linear_model\\_ridge.py:216: LinAlgWarning: Ill-conditioned matrix (rcond=4.67517e-23): result may not be accurate.\n",
      "  return linalg.solve(A, Xy, assume_a=\"pos\", overwrite_a=True).T\n",
      "D:\\Anaconda Python\\lib\\site-packages\\sklearn\\linear_model\\_ridge.py:216: LinAlgWarning: Ill-conditioned matrix (rcond=4.66104e-23): result may not be accurate.\n",
      "  return linalg.solve(A, Xy, assume_a=\"pos\", overwrite_a=True).T\n",
      "D:\\Anaconda Python\\lib\\site-packages\\sklearn\\linear_model\\_ridge.py:216: LinAlgWarning: Ill-conditioned matrix (rcond=4.62492e-23): result may not be accurate.\n",
      "  return linalg.solve(A, Xy, assume_a=\"pos\", overwrite_a=True).T\n",
      "D:\\Anaconda Python\\lib\\site-packages\\sklearn\\linear_model\\_ridge.py:216: LinAlgWarning: Ill-conditioned matrix (rcond=4.63142e-23): result may not be accurate.\n",
      "  return linalg.solve(A, Xy, assume_a=\"pos\", overwrite_a=True).T\n",
      "D:\\Anaconda Python\\lib\\site-packages\\sklearn\\linear_model\\_ridge.py:216: LinAlgWarning: Ill-conditioned matrix (rcond=4.60528e-23): result may not be accurate.\n",
      "  return linalg.solve(A, Xy, assume_a=\"pos\", overwrite_a=True).T\n",
      "D:\\Anaconda Python\\lib\\site-packages\\sklearn\\linear_model\\_ridge.py:216: LinAlgWarning: Ill-conditioned matrix (rcond=4.85498e-23): result may not be accurate.\n",
      "  return linalg.solve(A, Xy, assume_a=\"pos\", overwrite_a=True).T\n",
      "D:\\Anaconda Python\\lib\\site-packages\\sklearn\\linear_model\\_ridge.py:216: LinAlgWarning: Ill-conditioned matrix (rcond=4.84031e-23): result may not be accurate.\n",
      "  return linalg.solve(A, Xy, assume_a=\"pos\", overwrite_a=True).T\n",
      "D:\\Anaconda Python\\lib\\site-packages\\sklearn\\linear_model\\_ridge.py:216: LinAlgWarning: Ill-conditioned matrix (rcond=4.80281e-23): result may not be accurate.\n",
      "  return linalg.solve(A, Xy, assume_a=\"pos\", overwrite_a=True).T\n",
      "D:\\Anaconda Python\\lib\\site-packages\\sklearn\\linear_model\\_ridge.py:216: LinAlgWarning: Ill-conditioned matrix (rcond=4.80955e-23): result may not be accurate.\n",
      "  return linalg.solve(A, Xy, assume_a=\"pos\", overwrite_a=True).T\n",
      "D:\\Anaconda Python\\lib\\site-packages\\sklearn\\linear_model\\_ridge.py:216: LinAlgWarning: Ill-conditioned matrix (rcond=4.7824e-23): result may not be accurate.\n",
      "  return linalg.solve(A, Xy, assume_a=\"pos\", overwrite_a=True).T\n",
      "D:\\Anaconda Python\\lib\\site-packages\\sklearn\\linear_model\\_ridge.py:216: LinAlgWarning: Ill-conditioned matrix (rcond=5.0348e-23): result may not be accurate.\n",
      "  return linalg.solve(A, Xy, assume_a=\"pos\", overwrite_a=True).T\n",
      "D:\\Anaconda Python\\lib\\site-packages\\sklearn\\linear_model\\_ridge.py:216: LinAlgWarning: Ill-conditioned matrix (rcond=5.01958e-23): result may not be accurate.\n",
      "  return linalg.solve(A, Xy, assume_a=\"pos\", overwrite_a=True).T\n",
      "D:\\Anaconda Python\\lib\\site-packages\\sklearn\\linear_model\\_ridge.py:216: LinAlgWarning: Ill-conditioned matrix (rcond=4.98069e-23): result may not be accurate.\n",
      "  return linalg.solve(A, Xy, assume_a=\"pos\", overwrite_a=True).T\n",
      "D:\\Anaconda Python\\lib\\site-packages\\sklearn\\linear_model\\_ridge.py:216: LinAlgWarning: Ill-conditioned matrix (rcond=4.98768e-23): result may not be accurate.\n",
      "  return linalg.solve(A, Xy, assume_a=\"pos\", overwrite_a=True).T\n",
      "D:\\Anaconda Python\\lib\\site-packages\\sklearn\\linear_model\\_ridge.py:216: LinAlgWarning: Ill-conditioned matrix (rcond=4.95953e-23): result may not be accurate.\n",
      "  return linalg.solve(A, Xy, assume_a=\"pos\", overwrite_a=True).T\n",
      "D:\\Anaconda Python\\lib\\site-packages\\sklearn\\linear_model\\_ridge.py:216: LinAlgWarning: Ill-conditioned matrix (rcond=5.21461e-23): result may not be accurate.\n",
      "  return linalg.solve(A, Xy, assume_a=\"pos\", overwrite_a=True).T\n",
      "D:\\Anaconda Python\\lib\\site-packages\\sklearn\\linear_model\\_ridge.py:216: LinAlgWarning: Ill-conditioned matrix (rcond=5.19885e-23): result may not be accurate.\n",
      "  return linalg.solve(A, Xy, assume_a=\"pos\", overwrite_a=True).T\n",
      "D:\\Anaconda Python\\lib\\site-packages\\sklearn\\linear_model\\_ridge.py:216: LinAlgWarning: Ill-conditioned matrix (rcond=5.15857e-23): result may not be accurate.\n",
      "  return linalg.solve(A, Xy, assume_a=\"pos\", overwrite_a=True).T\n",
      "D:\\Anaconda Python\\lib\\site-packages\\sklearn\\linear_model\\_ridge.py:216: LinAlgWarning: Ill-conditioned matrix (rcond=5.16581e-23): result may not be accurate.\n",
      "  return linalg.solve(A, Xy, assume_a=\"pos\", overwrite_a=True).T\n",
      "D:\\Anaconda Python\\lib\\site-packages\\sklearn\\linear_model\\_ridge.py:216: LinAlgWarning: Ill-conditioned matrix (rcond=5.13666e-23): result may not be accurate.\n",
      "  return linalg.solve(A, Xy, assume_a=\"pos\", overwrite_a=True).T\n",
      "D:\\Anaconda Python\\lib\\site-packages\\sklearn\\linear_model\\_ridge.py:216: LinAlgWarning: Ill-conditioned matrix (rcond=5.39443e-23): result may not be accurate.\n",
      "  return linalg.solve(A, Xy, assume_a=\"pos\", overwrite_a=True).T\n",
      "D:\\Anaconda Python\\lib\\site-packages\\sklearn\\linear_model\\_ridge.py:216: LinAlgWarning: Ill-conditioned matrix (rcond=5.37812e-23): result may not be accurate.\n",
      "  return linalg.solve(A, Xy, assume_a=\"pos\", overwrite_a=True).T\n",
      "D:\\Anaconda Python\\lib\\site-packages\\sklearn\\linear_model\\_ridge.py:216: LinAlgWarning: Ill-conditioned matrix (rcond=5.33645e-23): result may not be accurate.\n",
      "  return linalg.solve(A, Xy, assume_a=\"pos\", overwrite_a=True).T\n",
      "D:\\Anaconda Python\\lib\\site-packages\\sklearn\\linear_model\\_ridge.py:216: LinAlgWarning: Ill-conditioned matrix (rcond=5.34394e-23): result may not be accurate.\n",
      "  return linalg.solve(A, Xy, assume_a=\"pos\", overwrite_a=True).T\n",
      "D:\\Anaconda Python\\lib\\site-packages\\sklearn\\linear_model\\_ridge.py:216: LinAlgWarning: Ill-conditioned matrix (rcond=5.31378e-23): result may not be accurate.\n",
      "  return linalg.solve(A, Xy, assume_a=\"pos\", overwrite_a=True).T\n",
      "D:\\Anaconda Python\\lib\\site-packages\\sklearn\\linear_model\\_ridge.py:216: LinAlgWarning: Ill-conditioned matrix (rcond=5.57424e-23): result may not be accurate.\n",
      "  return linalg.solve(A, Xy, assume_a=\"pos\", overwrite_a=True).T\n"
     ]
    },
    {
     "name": "stderr",
     "output_type": "stream",
     "text": [
      "D:\\Anaconda Python\\lib\\site-packages\\sklearn\\linear_model\\_ridge.py:216: LinAlgWarning: Ill-conditioned matrix (rcond=5.55739e-23): result may not be accurate.\n",
      "  return linalg.solve(A, Xy, assume_a=\"pos\", overwrite_a=True).T\n",
      "D:\\Anaconda Python\\lib\\site-packages\\sklearn\\linear_model\\_ridge.py:216: LinAlgWarning: Ill-conditioned matrix (rcond=5.51433e-23): result may not be accurate.\n",
      "  return linalg.solve(A, Xy, assume_a=\"pos\", overwrite_a=True).T\n",
      "D:\\Anaconda Python\\lib\\site-packages\\sklearn\\linear_model\\_ridge.py:216: LinAlgWarning: Ill-conditioned matrix (rcond=5.52207e-23): result may not be accurate.\n",
      "  return linalg.solve(A, Xy, assume_a=\"pos\", overwrite_a=True).T\n",
      "D:\\Anaconda Python\\lib\\site-packages\\sklearn\\linear_model\\_ridge.py:216: LinAlgWarning: Ill-conditioned matrix (rcond=5.49091e-23): result may not be accurate.\n",
      "  return linalg.solve(A, Xy, assume_a=\"pos\", overwrite_a=True).T\n",
      "D:\\Anaconda Python\\lib\\site-packages\\sklearn\\linear_model\\_ridge.py:216: LinAlgWarning: Ill-conditioned matrix (rcond=5.75405e-23): result may not be accurate.\n",
      "  return linalg.solve(A, Xy, assume_a=\"pos\", overwrite_a=True).T\n",
      "D:\\Anaconda Python\\lib\\site-packages\\sklearn\\linear_model\\_ridge.py:216: LinAlgWarning: Ill-conditioned matrix (rcond=5.73666e-23): result may not be accurate.\n",
      "  return linalg.solve(A, Xy, assume_a=\"pos\", overwrite_a=True).T\n",
      "D:\\Anaconda Python\\lib\\site-packages\\sklearn\\linear_model\\_ridge.py:216: LinAlgWarning: Ill-conditioned matrix (rcond=5.69222e-23): result may not be accurate.\n",
      "  return linalg.solve(A, Xy, assume_a=\"pos\", overwrite_a=True).T\n",
      "D:\\Anaconda Python\\lib\\site-packages\\sklearn\\linear_model\\_ridge.py:216: LinAlgWarning: Ill-conditioned matrix (rcond=5.7002e-23): result may not be accurate.\n",
      "  return linalg.solve(A, Xy, assume_a=\"pos\", overwrite_a=True).T\n",
      "D:\\Anaconda Python\\lib\\site-packages\\sklearn\\linear_model\\_ridge.py:216: LinAlgWarning: Ill-conditioned matrix (rcond=5.66803e-23): result may not be accurate.\n",
      "  return linalg.solve(A, Xy, assume_a=\"pos\", overwrite_a=True).T\n",
      "D:\\Anaconda Python\\lib\\site-packages\\sklearn\\linear_model\\_ridge.py:216: LinAlgWarning: Ill-conditioned matrix (rcond=5.93387e-23): result may not be accurate.\n",
      "  return linalg.solve(A, Xy, assume_a=\"pos\", overwrite_a=True).T\n",
      "D:\\Anaconda Python\\lib\\site-packages\\sklearn\\linear_model\\_ridge.py:216: LinAlgWarning: Ill-conditioned matrix (rcond=5.91594e-23): result may not be accurate.\n",
      "  return linalg.solve(A, Xy, assume_a=\"pos\", overwrite_a=True).T\n",
      "D:\\Anaconda Python\\lib\\site-packages\\sklearn\\linear_model\\_ridge.py:216: LinAlgWarning: Ill-conditioned matrix (rcond=5.8701e-23): result may not be accurate.\n",
      "  return linalg.solve(A, Xy, assume_a=\"pos\", overwrite_a=True).T\n",
      "D:\\Anaconda Python\\lib\\site-packages\\sklearn\\linear_model\\_ridge.py:216: LinAlgWarning: Ill-conditioned matrix (rcond=5.87834e-23): result may not be accurate.\n",
      "  return linalg.solve(A, Xy, assume_a=\"pos\", overwrite_a=True).T\n",
      "D:\\Anaconda Python\\lib\\site-packages\\sklearn\\linear_model\\_ridge.py:216: LinAlgWarning: Ill-conditioned matrix (rcond=5.84516e-23): result may not be accurate.\n",
      "  return linalg.solve(A, Xy, assume_a=\"pos\", overwrite_a=True).T\n",
      "D:\\Anaconda Python\\lib\\site-packages\\sklearn\\linear_model\\_ridge.py:216: LinAlgWarning: Ill-conditioned matrix (rcond=6.11368e-23): result may not be accurate.\n",
      "  return linalg.solve(A, Xy, assume_a=\"pos\", overwrite_a=True).T\n",
      "D:\\Anaconda Python\\lib\\site-packages\\sklearn\\linear_model\\_ridge.py:216: LinAlgWarning: Ill-conditioned matrix (rcond=6.09521e-23): result may not be accurate.\n",
      "  return linalg.solve(A, Xy, assume_a=\"pos\", overwrite_a=True).T\n",
      "D:\\Anaconda Python\\lib\\site-packages\\sklearn\\linear_model\\_ridge.py:216: LinAlgWarning: Ill-conditioned matrix (rcond=6.04798e-23): result may not be accurate.\n",
      "  return linalg.solve(A, Xy, assume_a=\"pos\", overwrite_a=True).T\n",
      "D:\\Anaconda Python\\lib\\site-packages\\sklearn\\linear_model\\_ridge.py:216: LinAlgWarning: Ill-conditioned matrix (rcond=6.05647e-23): result may not be accurate.\n",
      "  return linalg.solve(A, Xy, assume_a=\"pos\", overwrite_a=True).T\n",
      "D:\\Anaconda Python\\lib\\site-packages\\sklearn\\linear_model\\_ridge.py:216: LinAlgWarning: Ill-conditioned matrix (rcond=6.02229e-23): result may not be accurate.\n",
      "  return linalg.solve(A, Xy, assume_a=\"pos\", overwrite_a=True).T\n",
      "D:\\Anaconda Python\\lib\\site-packages\\sklearn\\linear_model\\_ridge.py:216: LinAlgWarning: Ill-conditioned matrix (rcond=6.2935e-23): result may not be accurate.\n",
      "  return linalg.solve(A, Xy, assume_a=\"pos\", overwrite_a=True).T\n",
      "D:\\Anaconda Python\\lib\\site-packages\\sklearn\\linear_model\\_ridge.py:216: LinAlgWarning: Ill-conditioned matrix (rcond=6.27448e-23): result may not be accurate.\n",
      "  return linalg.solve(A, Xy, assume_a=\"pos\", overwrite_a=True).T\n",
      "D:\\Anaconda Python\\lib\\site-packages\\sklearn\\linear_model\\_ridge.py:216: LinAlgWarning: Ill-conditioned matrix (rcond=6.22586e-23): result may not be accurate.\n",
      "  return linalg.solve(A, Xy, assume_a=\"pos\", overwrite_a=True).T\n",
      "D:\\Anaconda Python\\lib\\site-packages\\sklearn\\linear_model\\_ridge.py:216: LinAlgWarning: Ill-conditioned matrix (rcond=6.2346e-23): result may not be accurate.\n",
      "  return linalg.solve(A, Xy, assume_a=\"pos\", overwrite_a=True).T\n",
      "D:\\Anaconda Python\\lib\\site-packages\\sklearn\\linear_model\\_ridge.py:216: LinAlgWarning: Ill-conditioned matrix (rcond=6.19941e-23): result may not be accurate.\n",
      "  return linalg.solve(A, Xy, assume_a=\"pos\", overwrite_a=True).T\n",
      "D:\\Anaconda Python\\lib\\site-packages\\sklearn\\linear_model\\_ridge.py:216: LinAlgWarning: Ill-conditioned matrix (rcond=6.47331e-23): result may not be accurate.\n",
      "  return linalg.solve(A, Xy, assume_a=\"pos\", overwrite_a=True).T\n",
      "D:\\Anaconda Python\\lib\\site-packages\\sklearn\\linear_model\\_ridge.py:216: LinAlgWarning: Ill-conditioned matrix (rcond=6.45375e-23): result may not be accurate.\n",
      "  return linalg.solve(A, Xy, assume_a=\"pos\", overwrite_a=True).T\n",
      "D:\\Anaconda Python\\lib\\site-packages\\sklearn\\linear_model\\_ridge.py:216: LinAlgWarning: Ill-conditioned matrix (rcond=6.40374e-23): result may not be accurate.\n",
      "  return linalg.solve(A, Xy, assume_a=\"pos\", overwrite_a=True).T\n",
      "D:\\Anaconda Python\\lib\\site-packages\\sklearn\\linear_model\\_ridge.py:216: LinAlgWarning: Ill-conditioned matrix (rcond=6.41273e-23): result may not be accurate.\n",
      "  return linalg.solve(A, Xy, assume_a=\"pos\", overwrite_a=True).T\n",
      "D:\\Anaconda Python\\lib\\site-packages\\sklearn\\linear_model\\_ridge.py:216: LinAlgWarning: Ill-conditioned matrix (rcond=6.37654e-23): result may not be accurate.\n",
      "  return linalg.solve(A, Xy, assume_a=\"pos\", overwrite_a=True).T\n",
      "D:\\Anaconda Python\\lib\\site-packages\\sklearn\\linear_model\\_ridge.py:216: LinAlgWarning: Ill-conditioned matrix (rcond=6.65313e-23): result may not be accurate.\n",
      "  return linalg.solve(A, Xy, assume_a=\"pos\", overwrite_a=True).T\n",
      "D:\\Anaconda Python\\lib\\site-packages\\sklearn\\linear_model\\_ridge.py:216: LinAlgWarning: Ill-conditioned matrix (rcond=6.63302e-23): result may not be accurate.\n",
      "  return linalg.solve(A, Xy, assume_a=\"pos\", overwrite_a=True).T\n",
      "D:\\Anaconda Python\\lib\\site-packages\\sklearn\\linear_model\\_ridge.py:216: LinAlgWarning: Ill-conditioned matrix (rcond=6.58162e-23): result may not be accurate.\n",
      "  return linalg.solve(A, Xy, assume_a=\"pos\", overwrite_a=True).T\n",
      "D:\\Anaconda Python\\lib\\site-packages\\sklearn\\linear_model\\_ridge.py:216: LinAlgWarning: Ill-conditioned matrix (rcond=6.59086e-23): result may not be accurate.\n",
      "  return linalg.solve(A, Xy, assume_a=\"pos\", overwrite_a=True).T\n",
      "D:\\Anaconda Python\\lib\\site-packages\\sklearn\\linear_model\\_ridge.py:216: LinAlgWarning: Ill-conditioned matrix (rcond=6.55366e-23): result may not be accurate.\n",
      "  return linalg.solve(A, Xy, assume_a=\"pos\", overwrite_a=True).T\n",
      "D:\\Anaconda Python\\lib\\site-packages\\sklearn\\linear_model\\_ridge.py:216: LinAlgWarning: Ill-conditioned matrix (rcond=6.83294e-23): result may not be accurate.\n",
      "  return linalg.solve(A, Xy, assume_a=\"pos\", overwrite_a=True).T\n",
      "D:\\Anaconda Python\\lib\\site-packages\\sklearn\\linear_model\\_ridge.py:216: LinAlgWarning: Ill-conditioned matrix (rcond=6.81229e-23): result may not be accurate.\n",
      "  return linalg.solve(A, Xy, assume_a=\"pos\", overwrite_a=True).T\n",
      "D:\\Anaconda Python\\lib\\site-packages\\sklearn\\linear_model\\_ridge.py:216: LinAlgWarning: Ill-conditioned matrix (rcond=6.75951e-23): result may not be accurate.\n",
      "  return linalg.solve(A, Xy, assume_a=\"pos\", overwrite_a=True).T\n",
      "D:\\Anaconda Python\\lib\\site-packages\\sklearn\\linear_model\\_ridge.py:216: LinAlgWarning: Ill-conditioned matrix (rcond=6.76899e-23): result may not be accurate.\n",
      "  return linalg.solve(A, Xy, assume_a=\"pos\", overwrite_a=True).T\n",
      "D:\\Anaconda Python\\lib\\site-packages\\sklearn\\linear_model\\_ridge.py:216: LinAlgWarning: Ill-conditioned matrix (rcond=6.73079e-23): result may not be accurate.\n",
      "  return linalg.solve(A, Xy, assume_a=\"pos\", overwrite_a=True).T\n",
      "D:\\Anaconda Python\\lib\\site-packages\\sklearn\\linear_model\\_ridge.py:216: LinAlgWarning: Ill-conditioned matrix (rcond=7.01275e-23): result may not be accurate.\n",
      "  return linalg.solve(A, Xy, assume_a=\"pos\", overwrite_a=True).T\n",
      "D:\\Anaconda Python\\lib\\site-packages\\sklearn\\linear_model\\_ridge.py:216: LinAlgWarning: Ill-conditioned matrix (rcond=6.99156e-23): result may not be accurate.\n",
      "  return linalg.solve(A, Xy, assume_a=\"pos\", overwrite_a=True).T\n",
      "D:\\Anaconda Python\\lib\\site-packages\\sklearn\\linear_model\\_ridge.py:216: LinAlgWarning: Ill-conditioned matrix (rcond=6.93739e-23): result may not be accurate.\n",
      "  return linalg.solve(A, Xy, assume_a=\"pos\", overwrite_a=True).T\n",
      "D:\\Anaconda Python\\lib\\site-packages\\sklearn\\linear_model\\_ridge.py:216: LinAlgWarning: Ill-conditioned matrix (rcond=6.94712e-23): result may not be accurate.\n",
      "  return linalg.solve(A, Xy, assume_a=\"pos\", overwrite_a=True).T\n",
      "D:\\Anaconda Python\\lib\\site-packages\\sklearn\\linear_model\\_ridge.py:216: LinAlgWarning: Ill-conditioned matrix (rcond=6.90792e-23): result may not be accurate.\n",
      "  return linalg.solve(A, Xy, assume_a=\"pos\", overwrite_a=True).T\n",
      "D:\\Anaconda Python\\lib\\site-packages\\sklearn\\linear_model\\_ridge.py:216: LinAlgWarning: Ill-conditioned matrix (rcond=7.19257e-23): result may not be accurate.\n",
      "  return linalg.solve(A, Xy, assume_a=\"pos\", overwrite_a=True).T\n",
      "D:\\Anaconda Python\\lib\\site-packages\\sklearn\\linear_model\\_ridge.py:216: LinAlgWarning: Ill-conditioned matrix (rcond=7.17083e-23): result may not be accurate.\n",
      "  return linalg.solve(A, Xy, assume_a=\"pos\", overwrite_a=True).T\n",
      "D:\\Anaconda Python\\lib\\site-packages\\sklearn\\linear_model\\_ridge.py:216: LinAlgWarning: Ill-conditioned matrix (rcond=7.11527e-23): result may not be accurate.\n",
      "  return linalg.solve(A, Xy, assume_a=\"pos\", overwrite_a=True).T\n",
      "D:\\Anaconda Python\\lib\\site-packages\\sklearn\\linear_model\\_ridge.py:216: LinAlgWarning: Ill-conditioned matrix (rcond=7.12526e-23): result may not be accurate.\n",
      "  return linalg.solve(A, Xy, assume_a=\"pos\", overwrite_a=True).T\n",
      "D:\\Anaconda Python\\lib\\site-packages\\sklearn\\linear_model\\_ridge.py:216: LinAlgWarning: Ill-conditioned matrix (rcond=7.08504e-23): result may not be accurate.\n",
      "  return linalg.solve(A, Xy, assume_a=\"pos\", overwrite_a=True).T\n",
      "D:\\Anaconda Python\\lib\\site-packages\\sklearn\\linear_model\\_ridge.py:216: LinAlgWarning: Ill-conditioned matrix (rcond=7.37238e-23): result may not be accurate.\n",
      "  return linalg.solve(A, Xy, assume_a=\"pos\", overwrite_a=True).T\n",
      "D:\\Anaconda Python\\lib\\site-packages\\sklearn\\linear_model\\_ridge.py:216: LinAlgWarning: Ill-conditioned matrix (rcond=7.3501e-23): result may not be accurate.\n",
      "  return linalg.solve(A, Xy, assume_a=\"pos\", overwrite_a=True).T\n"
     ]
    },
    {
     "name": "stderr",
     "output_type": "stream",
     "text": [
      "D:\\Anaconda Python\\lib\\site-packages\\sklearn\\linear_model\\_ridge.py:216: LinAlgWarning: Ill-conditioned matrix (rcond=7.29315e-23): result may not be accurate.\n",
      "  return linalg.solve(A, Xy, assume_a=\"pos\", overwrite_a=True).T\n",
      "D:\\Anaconda Python\\lib\\site-packages\\sklearn\\linear_model\\_ridge.py:216: LinAlgWarning: Ill-conditioned matrix (rcond=7.30339e-23): result may not be accurate.\n",
      "  return linalg.solve(A, Xy, assume_a=\"pos\", overwrite_a=True).T\n",
      "D:\\Anaconda Python\\lib\\site-packages\\sklearn\\linear_model\\_ridge.py:216: LinAlgWarning: Ill-conditioned matrix (rcond=7.26217e-23): result may not be accurate.\n",
      "  return linalg.solve(A, Xy, assume_a=\"pos\", overwrite_a=True).T\n",
      "D:\\Anaconda Python\\lib\\site-packages\\sklearn\\linear_model\\_ridge.py:216: LinAlgWarning: Ill-conditioned matrix (rcond=7.5522e-23): result may not be accurate.\n",
      "  return linalg.solve(A, Xy, assume_a=\"pos\", overwrite_a=True).T\n",
      "D:\\Anaconda Python\\lib\\site-packages\\sklearn\\linear_model\\_ridge.py:216: LinAlgWarning: Ill-conditioned matrix (rcond=7.52937e-23): result may not be accurate.\n",
      "  return linalg.solve(A, Xy, assume_a=\"pos\", overwrite_a=True).T\n",
      "D:\\Anaconda Python\\lib\\site-packages\\sklearn\\linear_model\\_ridge.py:216: LinAlgWarning: Ill-conditioned matrix (rcond=7.47103e-23): result may not be accurate.\n",
      "  return linalg.solve(A, Xy, assume_a=\"pos\", overwrite_a=True).T\n",
      "D:\\Anaconda Python\\lib\\site-packages\\sklearn\\linear_model\\_ridge.py:216: LinAlgWarning: Ill-conditioned matrix (rcond=7.48152e-23): result may not be accurate.\n",
      "  return linalg.solve(A, Xy, assume_a=\"pos\", overwrite_a=True).T\n",
      "D:\\Anaconda Python\\lib\\site-packages\\sklearn\\linear_model\\_ridge.py:216: LinAlgWarning: Ill-conditioned matrix (rcond=7.43929e-23): result may not be accurate.\n",
      "  return linalg.solve(A, Xy, assume_a=\"pos\", overwrite_a=True).T\n",
      "D:\\Anaconda Python\\lib\\site-packages\\sklearn\\linear_model\\_ridge.py:216: LinAlgWarning: Ill-conditioned matrix (rcond=7.73201e-23): result may not be accurate.\n",
      "  return linalg.solve(A, Xy, assume_a=\"pos\", overwrite_a=True).T\n",
      "D:\\Anaconda Python\\lib\\site-packages\\sklearn\\linear_model\\_ridge.py:216: LinAlgWarning: Ill-conditioned matrix (rcond=7.70864e-23): result may not be accurate.\n",
      "  return linalg.solve(A, Xy, assume_a=\"pos\", overwrite_a=True).T\n",
      "D:\\Anaconda Python\\lib\\site-packages\\sklearn\\linear_model\\_ridge.py:216: LinAlgWarning: Ill-conditioned matrix (rcond=7.64891e-23): result may not be accurate.\n",
      "  return linalg.solve(A, Xy, assume_a=\"pos\", overwrite_a=True).T\n",
      "D:\\Anaconda Python\\lib\\site-packages\\sklearn\\linear_model\\_ridge.py:216: LinAlgWarning: Ill-conditioned matrix (rcond=7.65965e-23): result may not be accurate.\n",
      "  return linalg.solve(A, Xy, assume_a=\"pos\", overwrite_a=True).T\n",
      "D:\\Anaconda Python\\lib\\site-packages\\sklearn\\linear_model\\_ridge.py:216: LinAlgWarning: Ill-conditioned matrix (rcond=7.61642e-23): result may not be accurate.\n",
      "  return linalg.solve(A, Xy, assume_a=\"pos\", overwrite_a=True).T\n",
      "D:\\Anaconda Python\\lib\\site-packages\\sklearn\\linear_model\\_ridge.py:216: LinAlgWarning: Ill-conditioned matrix (rcond=7.91183e-23): result may not be accurate.\n",
      "  return linalg.solve(A, Xy, assume_a=\"pos\", overwrite_a=True).T\n",
      "D:\\Anaconda Python\\lib\\site-packages\\sklearn\\linear_model\\_ridge.py:216: LinAlgWarning: Ill-conditioned matrix (rcond=7.88791e-23): result may not be accurate.\n",
      "  return linalg.solve(A, Xy, assume_a=\"pos\", overwrite_a=True).T\n",
      "D:\\Anaconda Python\\lib\\site-packages\\sklearn\\linear_model\\_ridge.py:216: LinAlgWarning: Ill-conditioned matrix (rcond=7.8268e-23): result may not be accurate.\n",
      "  return linalg.solve(A, Xy, assume_a=\"pos\", overwrite_a=True).T\n",
      "D:\\Anaconda Python\\lib\\site-packages\\sklearn\\linear_model\\_ridge.py:216: LinAlgWarning: Ill-conditioned matrix (rcond=7.83778e-23): result may not be accurate.\n",
      "  return linalg.solve(A, Xy, assume_a=\"pos\", overwrite_a=True).T\n",
      "D:\\Anaconda Python\\lib\\site-packages\\sklearn\\linear_model\\_ridge.py:216: LinAlgWarning: Ill-conditioned matrix (rcond=7.79355e-23): result may not be accurate.\n",
      "  return linalg.solve(A, Xy, assume_a=\"pos\", overwrite_a=True).T\n",
      "D:\\Anaconda Python\\lib\\site-packages\\sklearn\\linear_model\\_ridge.py:216: LinAlgWarning: Ill-conditioned matrix (rcond=8.09164e-23): result may not be accurate.\n",
      "  return linalg.solve(A, Xy, assume_a=\"pos\", overwrite_a=True).T\n",
      "D:\\Anaconda Python\\lib\\site-packages\\sklearn\\linear_model\\_ridge.py:216: LinAlgWarning: Ill-conditioned matrix (rcond=8.06719e-23): result may not be accurate.\n",
      "  return linalg.solve(A, Xy, assume_a=\"pos\", overwrite_a=True).T\n",
      "D:\\Anaconda Python\\lib\\site-packages\\sklearn\\linear_model\\_ridge.py:216: LinAlgWarning: Ill-conditioned matrix (rcond=8.00468e-23): result may not be accurate.\n",
      "  return linalg.solve(A, Xy, assume_a=\"pos\", overwrite_a=True).T\n",
      "D:\\Anaconda Python\\lib\\site-packages\\sklearn\\linear_model\\_ridge.py:216: LinAlgWarning: Ill-conditioned matrix (rcond=8.01591e-23): result may not be accurate.\n",
      "  return linalg.solve(A, Xy, assume_a=\"pos\", overwrite_a=True).T\n",
      "D:\\Anaconda Python\\lib\\site-packages\\sklearn\\linear_model\\_ridge.py:216: LinAlgWarning: Ill-conditioned matrix (rcond=7.97067e-23): result may not be accurate.\n",
      "  return linalg.solve(A, Xy, assume_a=\"pos\", overwrite_a=True).T\n",
      "D:\\Anaconda Python\\lib\\site-packages\\sklearn\\linear_model\\_ridge.py:216: LinAlgWarning: Ill-conditioned matrix (rcond=8.27145e-23): result may not be accurate.\n",
      "  return linalg.solve(A, Xy, assume_a=\"pos\", overwrite_a=True).T\n",
      "D:\\Anaconda Python\\lib\\site-packages\\sklearn\\linear_model\\_ridge.py:216: LinAlgWarning: Ill-conditioned matrix (rcond=8.24646e-23): result may not be accurate.\n",
      "  return linalg.solve(A, Xy, assume_a=\"pos\", overwrite_a=True).T\n",
      "D:\\Anaconda Python\\lib\\site-packages\\sklearn\\linear_model\\_ridge.py:216: LinAlgWarning: Ill-conditioned matrix (rcond=8.18256e-23): result may not be accurate.\n",
      "  return linalg.solve(A, Xy, assume_a=\"pos\", overwrite_a=True).T\n",
      "D:\\Anaconda Python\\lib\\site-packages\\sklearn\\linear_model\\_ridge.py:216: LinAlgWarning: Ill-conditioned matrix (rcond=8.19404e-23): result may not be accurate.\n",
      "  return linalg.solve(A, Xy, assume_a=\"pos\", overwrite_a=True).T\n",
      "D:\\Anaconda Python\\lib\\site-packages\\sklearn\\linear_model\\_ridge.py:216: LinAlgWarning: Ill-conditioned matrix (rcond=8.1478e-23): result may not be accurate.\n",
      "  return linalg.solve(A, Xy, assume_a=\"pos\", overwrite_a=True).T\n",
      "D:\\Anaconda Python\\lib\\site-packages\\sklearn\\linear_model\\_ridge.py:216: LinAlgWarning: Ill-conditioned matrix (rcond=8.45127e-23): result may not be accurate.\n",
      "  return linalg.solve(A, Xy, assume_a=\"pos\", overwrite_a=True).T\n",
      "D:\\Anaconda Python\\lib\\site-packages\\sklearn\\linear_model\\_ridge.py:216: LinAlgWarning: Ill-conditioned matrix (rcond=8.42573e-23): result may not be accurate.\n",
      "  return linalg.solve(A, Xy, assume_a=\"pos\", overwrite_a=True).T\n",
      "D:\\Anaconda Python\\lib\\site-packages\\sklearn\\linear_model\\_ridge.py:216: LinAlgWarning: Ill-conditioned matrix (rcond=8.36044e-23): result may not be accurate.\n",
      "  return linalg.solve(A, Xy, assume_a=\"pos\", overwrite_a=True).T\n",
      "D:\\Anaconda Python\\lib\\site-packages\\sklearn\\linear_model\\_ridge.py:216: LinAlgWarning: Ill-conditioned matrix (rcond=8.37218e-23): result may not be accurate.\n",
      "  return linalg.solve(A, Xy, assume_a=\"pos\", overwrite_a=True).T\n",
      "D:\\Anaconda Python\\lib\\site-packages\\sklearn\\linear_model\\_ridge.py:216: LinAlgWarning: Ill-conditioned matrix (rcond=8.32492e-23): result may not be accurate.\n",
      "  return linalg.solve(A, Xy, assume_a=\"pos\", overwrite_a=True).T\n"
     ]
    },
    {
     "name": "stdout",
     "output_type": "stream",
     "text": [
      "3.136227607727051\n"
     ]
    },
    {
     "name": "stderr",
     "output_type": "stream",
     "text": [
      "D:\\Anaconda Python\\lib\\site-packages\\sklearn\\linear_model\\_ridge.py:216: LinAlgWarning: Ill-conditioned matrix (rcond=8.63108e-23): result may not be accurate.\n",
      "  return linalg.solve(A, Xy, assume_a=\"pos\", overwrite_a=True).T\n",
      "D:\\Anaconda Python\\lib\\site-packages\\sklearn\\linear_model\\_ridge.py:216: LinAlgWarning: Ill-conditioned matrix (rcond=8.605e-23): result may not be accurate.\n",
      "  return linalg.solve(A, Xy, assume_a=\"pos\", overwrite_a=True).T\n",
      "D:\\Anaconda Python\\lib\\site-packages\\sklearn\\linear_model\\_ridge.py:216: LinAlgWarning: Ill-conditioned matrix (rcond=8.53832e-23): result may not be accurate.\n",
      "  return linalg.solve(A, Xy, assume_a=\"pos\", overwrite_a=True).T\n",
      "D:\\Anaconda Python\\lib\\site-packages\\sklearn\\linear_model\\_ridge.py:216: LinAlgWarning: Ill-conditioned matrix (rcond=8.55031e-23): result may not be accurate.\n",
      "  return linalg.solve(A, Xy, assume_a=\"pos\", overwrite_a=True).T\n",
      "D:\\Anaconda Python\\lib\\site-packages\\sklearn\\linear_model\\_ridge.py:216: LinAlgWarning: Ill-conditioned matrix (rcond=8.50205e-23): result may not be accurate.\n",
      "  return linalg.solve(A, Xy, assume_a=\"pos\", overwrite_a=True).T\n",
      "D:\\Anaconda Python\\lib\\site-packages\\sklearn\\linear_model\\_ridge.py:216: LinAlgWarning: Ill-conditioned matrix (rcond=8.8109e-23): result may not be accurate.\n",
      "  return linalg.solve(A, Xy, assume_a=\"pos\", overwrite_a=True).T\n",
      "D:\\Anaconda Python\\lib\\site-packages\\sklearn\\linear_model\\_ridge.py:216: LinAlgWarning: Ill-conditioned matrix (rcond=8.78427e-23): result may not be accurate.\n",
      "  return linalg.solve(A, Xy, assume_a=\"pos\", overwrite_a=True).T\n",
      "D:\\Anaconda Python\\lib\\site-packages\\sklearn\\linear_model\\_ridge.py:216: LinAlgWarning: Ill-conditioned matrix (rcond=8.7162e-23): result may not be accurate.\n",
      "  return linalg.solve(A, Xy, assume_a=\"pos\", overwrite_a=True).T\n",
      "D:\\Anaconda Python\\lib\\site-packages\\sklearn\\linear_model\\_ridge.py:216: LinAlgWarning: Ill-conditioned matrix (rcond=8.72844e-23): result may not be accurate.\n",
      "  return linalg.solve(A, Xy, assume_a=\"pos\", overwrite_a=True).T\n",
      "D:\\Anaconda Python\\lib\\site-packages\\sklearn\\linear_model\\_ridge.py:216: LinAlgWarning: Ill-conditioned matrix (rcond=8.67918e-23): result may not be accurate.\n",
      "  return linalg.solve(A, Xy, assume_a=\"pos\", overwrite_a=True).T\n",
      "D:\\Anaconda Python\\lib\\site-packages\\sklearn\\linear_model\\_ridge.py:216: LinAlgWarning: Ill-conditioned matrix (rcond=8.67918e-23): result may not be accurate.\n",
      "  return linalg.solve(A, Xy, assume_a=\"pos\", overwrite_a=True).T\n"
     ]
    }
   ],
   "source": [
    "Time_Start = time.time()\n",
    "\n",
    "alpha_Range = np.linspace(0, 500, 50)\n",
    "RRM_mean_train_acc, RRM_mean_val_acc, RRM_moRdel = Ridge_Regression_cv(cv = cv, alpha_Range = alpha_Range, \n",
    "                                                                     Xtrain = Xtrain, Ytrain = Ytrain, \n",
    "                                                                     polyfeatues = True, degree = 4)\n",
    "RidgeRegression_time_spend = time.time() - Time_Start\n",
    "print(RidgeRegression_time_spend)"
   ]
  },
  {
   "cell_type": "code",
   "execution_count": 23,
   "id": "9355fd2b",
   "metadata": {},
   "outputs": [
    {
     "name": "stdout",
     "output_type": "stream",
     "text": [
      "The Ridge Regression model train elapsed 3.136227607727051 seconds\n"
     ]
    }
   ],
   "source": [
    "print(\"The Ridge Regression model train elapsed {} seconds\".format(RidgeRegression_time_spend))"
   ]
  },
  {
   "cell_type": "code",
   "execution_count": 17,
   "id": "c9c0f486",
   "metadata": {},
   "outputs": [
    {
     "name": "stdout",
     "output_type": "stream",
     "text": [
      "Optimal Hyperpara:  500.0\n",
      "Optimal MSE:  16.803176325753668\n"
     ]
    },
    {
     "data": {
      "image/png": "[encoded data removed]",
      "text/plain": [
       "<Figure size 432x288 with 1 Axes>"
      ]
     },
     "metadata": {
      "needs_background": "light"
     },
     "output_type": "display_data"
    }
   ],
   "source": [
    "# Plot result of SVR\n",
    "plot_result(alpha_Range, RRM_mean_train_acc, RRM_mean_val_acc)\n",
    "plt.savefig('RidgeRegression.png', facecolor='white')\n",
    "plt.show()\n",
    "plt.close()"
   ]
  },
  {
   "cell_type": "code",
   "execution_count": 52,
   "id": "9cf1c0d9",
   "metadata": {},
   "outputs": [
    {
     "name": "stdout",
     "output_type": "stream",
     "text": [
      "MSE in TEST dataset:  18.14437489286206\n"
     ]
    }
   ],
   "source": [
    "MSE_Ridge_Valid = min(RRM_mean_val_acc)\n",
    "\n",
    "# Use the returned model to do prediction on test data set\n",
    "MSE_Ridge_test = test_predict(xtest = Xtest, ytest = Ytest, model = RRM_moRdel, polyfeatures = True, degree = 4)\n",
    "print(\"MSE in TEST dataset: \", MSE_Ridge_test)"
   ]
  },
  {
   "cell_type": "markdown",
   "id": "119f392a",
   "metadata": {},
   "source": [
    "### **Support Vector Regression Model training & test**\n",
    "1. Model train and time spend\n",
    "2. Model Test"
   ]
  },
  {
   "cell_type": "code",
   "execution_count": 19,
   "id": "266ffd48",
   "metadata": {},
   "outputs": [
    {
     "name": "stdout",
     "output_type": "stream",
     "text": [
      "509.4843285083771\n"
     ]
    }
   ],
   "source": [
    "Time_Start = time.time()\n",
    "\n",
    "# Call function to Support Vector Regression \n",
    "c_range = np.linspace(7e5, 9e5, 5)\n",
    "SVRM_train_accuracy, SVRM_val_accuracy, SVR_model= SupportVectorRegression(cv = cv, c_Range = c_range, gamma='scale',\n",
    "                                                                                Xtrain=Xtrain, Ytrain=Ytrain, \n",
    "                                                                                polyfeatues = True, degree = 4)\n",
    "SupportVectorRegression_time_spend = time.time() - Time_Start\n",
    "print(SupportVectorRegression_time_spend)"
   ]
  },
  {
   "cell_type": "code",
   "execution_count": 22,
   "id": "84161ec8",
   "metadata": {},
   "outputs": [
    {
     "name": "stdout",
     "output_type": "stream",
     "text": [
      "The SVR model train elapsed 509.4843285083771 seconds\n"
     ]
    }
   ],
   "source": [
    "print(\"The SVR model train elapsed {} seconds\".format(SupportVectorRegression_time_spend))"
   ]
  },
  {
   "cell_type": "code",
   "execution_count": 20,
   "id": "6b8b0a03",
   "metadata": {},
   "outputs": [
    {
     "name": "stdout",
     "output_type": "stream",
     "text": [
      "Optimal Hyperpara:  850000.0\n",
      "Optimal MSE:  18.08782867380931\n"
     ]
    },
    {
     "data": {
      "image/png": "[encoded data removed]",
      "text/plain": [
       "<Figure size 432x288 with 1 Axes>"
      ]
     },
     "metadata": {
      "needs_background": "light"
     },
     "output_type": "display_data"
    }
   ],
   "source": [
    "# Plot result of SVR\n",
    "plot_result(c_range, SVRM_train_accuracy, SVRM_val_accuracy)\n",
    "plt.savefig('SVR_nonself.png', facecolor='white')\n",
    "plt.show()\n",
    "plt.close()"
   ]
  },
  {
   "cell_type": "code",
   "execution_count": 49,
   "id": "019f40b1",
   "metadata": {},
   "outputs": [
    {
     "name": "stdout",
     "output_type": "stream",
     "text": [
      "MSE in TEST dataset:  18.96916209843263\n"
     ]
    }
   ],
   "source": [
    "MSE_SVR_Valid = min(SVRM_val_accuracy)\n",
    "\n",
    "# Use the returned model to do prediction on test data set\n",
    "MSE_SVR_test = test_predict(xtest = Xtest, ytest = Ytest, model = SVR_model, polyfeatures = True, degree = 4)\n",
    "print(\"MSE in TEST dataset: \", MSE_SVR_test)"
   ]
  },
  {
   "cell_type": "markdown",
   "id": "79ee3477",
   "metadata": {},
   "source": [
    "### **Kernel Ridge Regression Model training & test**\n",
    "1. Model train and time spend\n",
    "2. Model Test"
   ]
  },
  {
   "cell_type": "code",
   "execution_count": 25,
   "id": "b698ff57",
   "metadata": {
    "scrolled": true
   },
   "outputs": [
    {
     "name": "stderr",
     "output_type": "stream",
     "text": [
      "D:\\Anaconda Python\\lib\\site-packages\\sklearn\\linear_model\\_ridge.py:253: LinAlgWarning: Ill-conditioned matrix (rcond=1.21501e-17): result may not be accurate.\n",
      "  dual_coef = linalg.solve(K, y, assume_a=\"pos\", overwrite_a=False)\n",
      "D:\\Anaconda Python\\lib\\site-packages\\sklearn\\linear_model\\_ridge.py:253: LinAlgWarning: Ill-conditioned matrix (rcond=1.15729e-17): result may not be accurate.\n",
      "  dual_coef = linalg.solve(K, y, assume_a=\"pos\", overwrite_a=False)\n",
      "D:\\Anaconda Python\\lib\\site-packages\\sklearn\\linear_model\\_ridge.py:253: LinAlgWarning: Ill-conditioned matrix (rcond=8.67968e-18): result may not be accurate.\n",
      "  dual_coef = linalg.solve(K, y, assume_a=\"pos\", overwrite_a=False)\n",
      "D:\\Anaconda Python\\lib\\site-packages\\sklearn\\linear_model\\_ridge.py:253: LinAlgWarning: Ill-conditioned matrix (rcond=1.10939e-17): result may not be accurate.\n",
      "  dual_coef = linalg.solve(K, y, assume_a=\"pos\", overwrite_a=False)\n",
      "D:\\Anaconda Python\\lib\\site-packages\\sklearn\\linear_model\\_ridge.py:253: LinAlgWarning: Ill-conditioned matrix (rcond=9.71977e-18): result may not be accurate.\n",
      "  dual_coef = linalg.solve(K, y, assume_a=\"pos\", overwrite_a=False)\n",
      "D:\\Anaconda Python\\lib\\site-packages\\sklearn\\linear_model\\_ridge.py:253: LinAlgWarning: Ill-conditioned matrix (rcond=4.67131e-17): result may not be accurate.\n",
      "  dual_coef = linalg.solve(K, y, assume_a=\"pos\", overwrite_a=False)\n",
      "D:\\Anaconda Python\\lib\\site-packages\\sklearn\\linear_model\\_ridge.py:253: LinAlgWarning: Ill-conditioned matrix (rcond=4.33254e-17): result may not be accurate.\n",
      "  dual_coef = linalg.solve(K, y, assume_a=\"pos\", overwrite_a=False)\n",
      "D:\\Anaconda Python\\lib\\site-packages\\sklearn\\linear_model\\_ridge.py:253: LinAlgWarning: Ill-conditioned matrix (rcond=4.1553e-17): result may not be accurate.\n",
      "  dual_coef = linalg.solve(K, y, assume_a=\"pos\", overwrite_a=False)\n",
      "D:\\Anaconda Python\\lib\\site-packages\\sklearn\\linear_model\\_ridge.py:253: LinAlgWarning: Ill-conditioned matrix (rcond=3.14584e-17): result may not be accurate.\n",
      "  dual_coef = linalg.solve(K, y, assume_a=\"pos\", overwrite_a=False)\n",
      "D:\\Anaconda Python\\lib\\site-packages\\sklearn\\linear_model\\_ridge.py:253: LinAlgWarning: Ill-conditioned matrix (rcond=3.88656e-17): result may not be accurate.\n",
      "  dual_coef = linalg.solve(K, y, assume_a=\"pos\", overwrite_a=False)\n",
      "D:\\Anaconda Python\\lib\\site-packages\\sklearn\\linear_model\\_ridge.py:253: LinAlgWarning: Ill-conditioned matrix (rcond=7.78033e-17): result may not be accurate.\n",
      "  dual_coef = linalg.solve(K, y, assume_a=\"pos\", overwrite_a=False)\n",
      "D:\\Anaconda Python\\lib\\site-packages\\sklearn\\linear_model\\_ridge.py:253: LinAlgWarning: Ill-conditioned matrix (rcond=9.56195e-17): result may not be accurate.\n",
      "  dual_coef = linalg.solve(K, y, assume_a=\"pos\", overwrite_a=False)\n",
      "D:\\Anaconda Python\\lib\\site-packages\\sklearn\\linear_model\\_ridge.py:253: LinAlgWarning: Ill-conditioned matrix (rcond=6.19185e-17): result may not be accurate.\n",
      "  dual_coef = linalg.solve(K, y, assume_a=\"pos\", overwrite_a=False)\n",
      "D:\\Anaconda Python\\lib\\site-packages\\sklearn\\linear_model\\_ridge.py:253: LinAlgWarning: Ill-conditioned matrix (rcond=4.94672e-17): result may not be accurate.\n",
      "  dual_coef = linalg.solve(K, y, assume_a=\"pos\", overwrite_a=False)\n",
      "D:\\Anaconda Python\\lib\\site-packages\\sklearn\\linear_model\\_ridge.py:253: LinAlgWarning: Ill-conditioned matrix (rcond=5.38611e-17): result may not be accurate.\n",
      "  dual_coef = linalg.solve(K, y, assume_a=\"pos\", overwrite_a=False)\n",
      "D:\\Anaconda Python\\lib\\site-packages\\sklearn\\linear_model\\_ridge.py:253: LinAlgWarning: Ill-conditioned matrix (rcond=1.07702e-16): result may not be accurate.\n",
      "  dual_coef = linalg.solve(K, y, assume_a=\"pos\", overwrite_a=False)\n",
      "D:\\Anaconda Python\\lib\\site-packages\\sklearn\\linear_model\\_ridge.py:253: LinAlgWarning: Ill-conditioned matrix (rcond=8.70918e-17): result may not be accurate.\n",
      "  dual_coef = linalg.solve(K, y, assume_a=\"pos\", overwrite_a=False)\n",
      "D:\\Anaconda Python\\lib\\site-packages\\sklearn\\linear_model\\_ridge.py:253: LinAlgWarning: Ill-conditioned matrix (rcond=7.1587e-17): result may not be accurate.\n",
      "  dual_coef = linalg.solve(K, y, assume_a=\"pos\", overwrite_a=False)\n",
      "D:\\Anaconda Python\\lib\\site-packages\\sklearn\\linear_model\\_ridge.py:253: LinAlgWarning: Ill-conditioned matrix (rcond=7.78831e-17): result may not be accurate.\n",
      "  dual_coef = linalg.solve(K, y, assume_a=\"pos\", overwrite_a=False)\n",
      "D:\\Anaconda Python\\lib\\site-packages\\sklearn\\linear_model\\_ridge.py:253: LinAlgWarning: Ill-conditioned matrix (rcond=9.4235e-17): result may not be accurate.\n",
      "  dual_coef = linalg.solve(K, y, assume_a=\"pos\", overwrite_a=False)\n",
      "D:\\Anaconda Python\\lib\\site-packages\\sklearn\\linear_model\\_ridge.py:253: LinAlgWarning: Ill-conditioned matrix (rcond=1.0205e-16): result may not be accurate.\n",
      "  dual_coef = linalg.solve(K, y, assume_a=\"pos\", overwrite_a=False)\n"
     ]
    },
    {
     "name": "stdout",
     "output_type": "stream",
     "text": [
      "86.64542055130005\n"
     ]
    },
    {
     "name": "stderr",
     "output_type": "stream",
     "text": [
      "D:\\Anaconda Python\\lib\\site-packages\\sklearn\\linear_model\\_ridge.py:253: LinAlgWarning: Ill-conditioned matrix (rcond=3.88656e-17): result may not be accurate.\n",
      "  dual_coef = linalg.solve(K, y, assume_a=\"pos\", overwrite_a=False)\n"
     ]
    }
   ],
   "source": [
    "Time_Start = time.time()\n",
    "\n",
    "# Call function to Kernel Ridge Regression \n",
    "alpha_Range = np.linspace(8e-13, 1e-11, 5)\n",
    "\n",
    "KRRM_train_accuracy, KRRM_val_accuracy, KRR_model = KernelRidgeRegression(cv = cv, alpha_Range = alpha_Range, \n",
    "                                                                          gamma = 1e-5, Xtrain = Xtrain, Ytrain=Ytrain, \n",
    "                                                                          polyfeatues = False, degree = 4)\n",
    "\n",
    "KernelRidgeRegression_time_spend = time.time() - Time_Start\n",
    "print(KernelRidgeRegression_time_spend)"
   ]
  },
  {
   "cell_type": "code",
   "execution_count": 26,
   "id": "c9879aa5",
   "metadata": {},
   "outputs": [
    {
     "name": "stdout",
     "output_type": "stream",
     "text": [
      "The KRR model train elapsed 86.64542055130005 seconds\n"
     ]
    }
   ],
   "source": [
    "print(\"The KRR model train elapsed {} seconds\".format(KernelRidgeRegression_time_spend))"
   ]
  },
  {
   "cell_type": "code",
   "execution_count": 27,
   "id": "f3885b57",
   "metadata": {},
   "outputs": [
    {
     "name": "stdout",
     "output_type": "stream",
     "text": [
      "Optimal Hyperpara:  3.1e-12\n",
      "Optimal MSE:  16.483609276510233\n"
     ]
    },
    {
     "data": {
      "image/png": "[encoded data removed]",
      "text/plain": [
       "<Figure size 432x288 with 1 Axes>"
      ]
     },
     "metadata": {
      "needs_background": "light"
     },
     "output_type": "display_data"
    }
   ],
   "source": [
    "# Plot result of Kernel Redge Regression\n",
    "plot_result(alpha_Range, KRRM_train_accuracy, KRRM_val_accuracy)\n",
    "plt.savefig('KernelRidgeRegression.png', facecolor='white')\n",
    "plt.show()\n",
    "plt.close()"
   ]
  },
  {
   "cell_type": "code",
   "execution_count": 50,
   "id": "e888d954",
   "metadata": {},
   "outputs": [
    {
     "name": "stdout",
     "output_type": "stream",
     "text": [
      "MSE in TEST dataset:  17.783593603235005\n"
     ]
    }
   ],
   "source": [
    "MSE_KRR_Valid = min(KRRM_val_accuracy)\n",
    "\n",
    "# Use the returned model to do prediction on test data set\n",
    "MSE_KRR_test = test_predict(xtest = Xtest, ytest = Ytest, model = KRR_model, polyfeatures = False, degree = 4)\n",
    "print(\"MSE in TEST dataset: \", MSE_KRR_test)"
   ]
  },
  {
   "cell_type": "markdown",
   "id": "7faaddfb",
   "metadata": {},
   "source": [
    "### **Decision Tree Regression Model training & test**\n",
    "1. Model train and time spend\n",
    "2. Model Test"
   ]
  },
  {
   "cell_type": "code",
   "execution_count": 29,
   "id": "6845ffd0",
   "metadata": {},
   "outputs": [
    {
     "name": "stdout",
     "output_type": "stream",
     "text": [
      "47.47833275794983\n"
     ]
    }
   ],
   "source": [
    "Time_Start = time.time()\n",
    "\n",
    "# Call function to Kernel Ridge Regression \n",
    "Range_depth = range(1, 15)\n",
    "DTRM_train_accuracy, DTRM_val_accuracy, DTR_model = DecisionTreeRegression(cv = cv, Range_depth = Range_depth, \n",
    "                                                                               Xtrain = Xtrain, Ytrain = Ytrain, \n",
    "                                                                               polyfeatues = True, degree = 6)\n",
    "DecisionTreeRegression_time_spend = time.time() - Time_Start\n",
    "print(DecisionTreeRegression_time_spend)"
   ]
  },
  {
   "cell_type": "code",
   "execution_count": 30,
   "id": "1afd422e",
   "metadata": {},
   "outputs": [
    {
     "name": "stdout",
     "output_type": "stream",
     "text": [
      "The Decision tree model train elapsed 47.47833275794983 seconds\n"
     ]
    }
   ],
   "source": [
    "print(\"The Decision tree model train elapsed {} seconds\".format(DecisionTreeRegression_time_spend))"
   ]
  },
  {
   "cell_type": "code",
   "execution_count": 31,
   "id": "6b2b1901",
   "metadata": {},
   "outputs": [
    {
     "name": "stdout",
     "output_type": "stream",
     "text": [
      "Optimal Hyperpara:  7\n",
      "Optimal MSE:  16.934197287894165\n"
     ]
    },
    {
     "data": {
      "image/png": "[encoded data removed]",
      "text/plain": [
       "<Figure size 432x288 with 1 Axes>"
      ]
     },
     "metadata": {
      "needs_background": "light"
     },
     "output_type": "display_data"
    }
   ],
   "source": [
    "# Plot result of Kernel Redge Regression\n",
    "plot_result(Range_depth, DTRM_train_accuracy, DTRM_val_accuracy)\n",
    "plt.savefig('DecisionTreeRegression.png', facecolor='white')\n",
    "plt.show()\n",
    "plt.close()"
   ]
  },
  {
   "cell_type": "code",
   "execution_count": 54,
   "id": "fa392176",
   "metadata": {},
   "outputs": [
    {
     "name": "stdout",
     "output_type": "stream",
     "text": [
      "MSE in TEST dataset:  17.94331000484334\n"
     ]
    }
   ],
   "source": [
    "MSE_DecisionTree_Valid = min(DTRM_val_accuracy)\n",
    "\n",
    "# Use the returned model to do prediction on test data set\n",
    "MSE_DecisionTree_test = test_predict(xtest = Xtest, ytest = Ytest, model = DTR_model, polyfeatures = True, degree = 6)\n",
    "print(\"MSE in TEST dataset: \", MSE_DecisionTree_test)"
   ]
  },
  {
   "cell_type": "markdown",
   "id": "536b719a",
   "metadata": {},
   "source": [
    "### **Create a result dataframe**\n",
    "This dataframe will store all test MSEs, valid MSEs, time_spend, number of hyperparameter"
   ]
  },
  {
   "cell_type": "code",
   "execution_count": 55,
   "id": "79c8b494",
   "metadata": {},
   "outputs": [],
   "source": [
    "Test_MSEs = [MSE_dummy_test, MSE_Ridge_test, MSE_SVR_test, MSE_KRR_test, MSE_DecisionTree_test]\n",
    "Valid_MSEs = [MSE_dummy_Valid, MSE_Ridge_Valid, MSE_SVR_Valid, MSE_KRR_Valid, MSE_DecisionTree_Valid]\n",
    "time_spend = [baseline_time_spend, RidgeRegression_time_spend, \n",
    "              SupportVectorRegression_time_spend, KernelRidgeRegression_time_spend, \n",
    "              DecisionTreeRegression_time_spend]\n",
    "num_hyperpara = [4, 50, 5, 5, 15]"
   ]
  },
  {
   "cell_type": "code",
   "execution_count": 75,
   "id": "b173b142",
   "metadata": {},
   "outputs": [
    {
     "data": {
      "text/html": [
       "<div>\n",
       "<style scoped>\n",
       "    .dataframe tbody tr th:only-of-type {\n",
       "        vertical-align: middle;\n",
       "    }\n",
       "\n",
       "    .dataframe tbody tr th {\n",
       "        vertical-align: top;\n",
       "    }\n",
       "\n",
       "    .dataframe thead th {\n",
       "        text-align: right;\n",
       "    }\n",
       "</style>\n",
       "<table border=\"1\" class=\"dataframe\">\n",
       "  <thead>\n",
       "    <tr style=\"text-align: right;\">\n",
       "      <th></th>\n",
       "      <th>Valid_MSEs</th>\n",
       "      <th>Test_MSEs</th>\n",
       "      <th>Time_elapsed(s)</th>\n",
       "      <th>Hy-para num</th>\n",
       "    </tr>\n",
       "  </thead>\n",
       "  <tbody>\n",
       "    <tr>\n",
       "      <th>Base</th>\n",
       "      <td>290.321175</td>\n",
       "      <td>295.513986</td>\n",
       "      <td>0.020219</td>\n",
       "      <td>4.0</td>\n",
       "    </tr>\n",
       "    <tr>\n",
       "      <th>RR</th>\n",
       "      <td>16.803176</td>\n",
       "      <td>18.144375</td>\n",
       "      <td>3.136228</td>\n",
       "      <td>50.0</td>\n",
       "    </tr>\n",
       "    <tr>\n",
       "      <th>SVR</th>\n",
       "      <td>18.087829</td>\n",
       "      <td>18.969162</td>\n",
       "      <td>509.484329</td>\n",
       "      <td>5.0</td>\n",
       "    </tr>\n",
       "    <tr>\n",
       "      <th>KRR</th>\n",
       "      <td>16.483609</td>\n",
       "      <td>17.783594</td>\n",
       "      <td>86.645421</td>\n",
       "      <td>5.0</td>\n",
       "    </tr>\n",
       "    <tr>\n",
       "      <th>DTR</th>\n",
       "      <td>16.934197</td>\n",
       "      <td>17.943310</td>\n",
       "      <td>47.478333</td>\n",
       "      <td>15.0</td>\n",
       "    </tr>\n",
       "  </tbody>\n",
       "</table>\n",
       "</div>"
      ],
      "text/plain": [
       "      Valid_MSEs   Test_MSEs  Time_elapsed(s)  Hy-para num\n",
       "Base  290.321175  295.513986         0.020219          4.0\n",
       "RR     16.803176   18.144375         3.136228         50.0\n",
       "SVR    18.087829   18.969162       509.484329          5.0\n",
       "KRR    16.483609   17.783594        86.645421          5.0\n",
       "DTR    16.934197   17.943310        47.478333         15.0"
      ]
     },
     "metadata": {},
     "output_type": "display_data"
    }
   ],
   "source": [
    "valid_results_table = [np.array(Valid_MSEs), np.array(Test_MSEs), np.array(time_spend), np.array(num_hyperpara)]\n",
    "MSE_time_table = pd.DataFrame(valid_results_table)\n",
    "MSE_time_table.columns = [\"Base\", \"RR\", \"SVR\", \n",
    "                           \"KRR\", \"DTR\"]\n",
    "MSE_time_table.index = [\"Valid_MSEs\", \"Test_MSEs\", \"Time_elapsed(s)\", \"Hy-para num\"] \n",
    "MSE_time_table = MSE_time_table.T\n",
    "display(MSE_time_table)\n",
    "MSE_time_table.to_latex(\"MSE_time_table.tex\")\n",
    "\n"
   ]
  },
  {
   "cell_type": "code",
   "execution_count": null,
   "id": "69b53a54",
   "metadata": {},
   "outputs": [],
   "source": []
  },
  {
   "cell_type": "code",
   "execution_count": null,
   "id": "96f30b63",
   "metadata": {},
   "outputs": [],
   "source": []
  }
 ],
 "metadata": {
  "kernelspec": {
   "display_name": "Python 3",
   "language": "python",
   "name": "python3"
  },
  "language_info": {
   "codemirror_mode": {
    "name": "ipython",
    "version": 3
   },
   "file_extension": ".py",
   "mimetype": "text/x-python",
   "name": "python",
   "nbconvert_exporter": "python",
   "pygments_lexer": "ipython3",
   "version": "3.8.8"
  }
 },
 "nbformat": 4,
 "nbformat_minor": 5
}
